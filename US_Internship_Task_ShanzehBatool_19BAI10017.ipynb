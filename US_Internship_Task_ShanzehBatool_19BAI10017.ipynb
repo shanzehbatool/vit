{
  "nbformat": 4,
  "nbformat_minor": 0,
  "metadata": {
    "colab": {
      "name": "US_Internship_Task_ShanzehBatool_19BAI10017.ipynb",
      "provenance": [],
      "collapsed_sections": []
    },
    "kernelspec": {
      "name": "python3",
      "display_name": "Python 3"
    },
    "language_info": {
      "name": "python"
    }
  },
  "cells": [
    {
      "cell_type": "code",
      "execution_count": 351,
      "metadata": {
        "colab": {
          "base_uri": "https://localhost:8080/",
          "height": 423
        },
        "id": "EuVXoiTDquy-",
        "outputId": "8e173e6d-47af-4d88-d91c-cebc41eb20c8"
      },
      "outputs": [
        {
          "output_type": "execute_result",
          "data": {
            "text/plain": [
              "     Registration Number Badge Superbadge  \\\n",
              "0             19BAI10089  1729      21479   \n",
              "1             19BEE10029  4054      16179   \n",
              "2             19BCE10302  1279      17684   \n",
              "3             19BCE10205  4430      12878   \n",
              "4             19BOE10046  1559      15264   \n",
              "...                  ...   ...        ...   \n",
              "1283          21MCA10147     -          -   \n",
              "1284                   -     -          -   \n",
              "1285                   -     -          -   \n",
              "1286                   -     -          -   \n",
              "1287                   -     -          -   \n",
              "\n",
              "                                         Department  Batch  Examly status now  \n",
              "0                            B.Tech CSE - AI and ML   2023            23208.0  \n",
              "1     B.Tech Electrical and Electronics Engineering   2023            20233.0  \n",
              "2           B.Tech Computer Science and Engineering   2023            18963.0  \n",
              "3           B.Tech Computer Science and Engineering   2023            17308.0  \n",
              "4                             B.Tech Bioengineering   2023            16823.0  \n",
              "...                                             ...    ...                ...  \n",
              "1283                                            MCA   2023                0.0  \n",
              "1284                                            MCA   2023                NaN  \n",
              "1285                                            MCA   2023                NaN  \n",
              "1286                                            MCA   2023                NaN  \n",
              "1287                                            MCA   2023                NaN  \n",
              "\n",
              "[1288 rows x 6 columns]"
            ],
            "text/html": [
              "\n",
              "  <div id=\"df-f4cc56b6-18cb-41ab-b6f6-055f5c33848f\">\n",
              "    <div class=\"colab-df-container\">\n",
              "      <div>\n",
              "<style scoped>\n",
              "    .dataframe tbody tr th:only-of-type {\n",
              "        vertical-align: middle;\n",
              "    }\n",
              "\n",
              "    .dataframe tbody tr th {\n",
              "        vertical-align: top;\n",
              "    }\n",
              "\n",
              "    .dataframe thead th {\n",
              "        text-align: right;\n",
              "    }\n",
              "</style>\n",
              "<table border=\"1\" class=\"dataframe\">\n",
              "  <thead>\n",
              "    <tr style=\"text-align: right;\">\n",
              "      <th></th>\n",
              "      <th>Registration Number</th>\n",
              "      <th>Badge</th>\n",
              "      <th>Superbadge</th>\n",
              "      <th>Department</th>\n",
              "      <th>Batch</th>\n",
              "      <th>Examly status now</th>\n",
              "    </tr>\n",
              "  </thead>\n",
              "  <tbody>\n",
              "    <tr>\n",
              "      <th>0</th>\n",
              "      <td>19BAI10089</td>\n",
              "      <td>1729</td>\n",
              "      <td>21479</td>\n",
              "      <td>B.Tech CSE - AI and ML</td>\n",
              "      <td>2023</td>\n",
              "      <td>23208.0</td>\n",
              "    </tr>\n",
              "    <tr>\n",
              "      <th>1</th>\n",
              "      <td>19BEE10029</td>\n",
              "      <td>4054</td>\n",
              "      <td>16179</td>\n",
              "      <td>B.Tech Electrical and Electronics Engineering</td>\n",
              "      <td>2023</td>\n",
              "      <td>20233.0</td>\n",
              "    </tr>\n",
              "    <tr>\n",
              "      <th>2</th>\n",
              "      <td>19BCE10302</td>\n",
              "      <td>1279</td>\n",
              "      <td>17684</td>\n",
              "      <td>B.Tech Computer Science and Engineering</td>\n",
              "      <td>2023</td>\n",
              "      <td>18963.0</td>\n",
              "    </tr>\n",
              "    <tr>\n",
              "      <th>3</th>\n",
              "      <td>19BCE10205</td>\n",
              "      <td>4430</td>\n",
              "      <td>12878</td>\n",
              "      <td>B.Tech Computer Science and Engineering</td>\n",
              "      <td>2023</td>\n",
              "      <td>17308.0</td>\n",
              "    </tr>\n",
              "    <tr>\n",
              "      <th>4</th>\n",
              "      <td>19BOE10046</td>\n",
              "      <td>1559</td>\n",
              "      <td>15264</td>\n",
              "      <td>B.Tech Bioengineering</td>\n",
              "      <td>2023</td>\n",
              "      <td>16823.0</td>\n",
              "    </tr>\n",
              "    <tr>\n",
              "      <th>...</th>\n",
              "      <td>...</td>\n",
              "      <td>...</td>\n",
              "      <td>...</td>\n",
              "      <td>...</td>\n",
              "      <td>...</td>\n",
              "      <td>...</td>\n",
              "    </tr>\n",
              "    <tr>\n",
              "      <th>1283</th>\n",
              "      <td>21MCA10147</td>\n",
              "      <td>-</td>\n",
              "      <td>-</td>\n",
              "      <td>MCA</td>\n",
              "      <td>2023</td>\n",
              "      <td>0.0</td>\n",
              "    </tr>\n",
              "    <tr>\n",
              "      <th>1284</th>\n",
              "      <td>-</td>\n",
              "      <td>-</td>\n",
              "      <td>-</td>\n",
              "      <td>MCA</td>\n",
              "      <td>2023</td>\n",
              "      <td>NaN</td>\n",
              "    </tr>\n",
              "    <tr>\n",
              "      <th>1285</th>\n",
              "      <td>-</td>\n",
              "      <td>-</td>\n",
              "      <td>-</td>\n",
              "      <td>MCA</td>\n",
              "      <td>2023</td>\n",
              "      <td>NaN</td>\n",
              "    </tr>\n",
              "    <tr>\n",
              "      <th>1286</th>\n",
              "      <td>-</td>\n",
              "      <td>-</td>\n",
              "      <td>-</td>\n",
              "      <td>MCA</td>\n",
              "      <td>2023</td>\n",
              "      <td>NaN</td>\n",
              "    </tr>\n",
              "    <tr>\n",
              "      <th>1287</th>\n",
              "      <td>-</td>\n",
              "      <td>-</td>\n",
              "      <td>-</td>\n",
              "      <td>MCA</td>\n",
              "      <td>2023</td>\n",
              "      <td>NaN</td>\n",
              "    </tr>\n",
              "  </tbody>\n",
              "</table>\n",
              "<p>1288 rows × 6 columns</p>\n",
              "</div>\n",
              "      <button class=\"colab-df-convert\" onclick=\"convertToInteractive('df-f4cc56b6-18cb-41ab-b6f6-055f5c33848f')\"\n",
              "              title=\"Convert this dataframe to an interactive table.\"\n",
              "              style=\"display:none;\">\n",
              "        \n",
              "  <svg xmlns=\"http://www.w3.org/2000/svg\" height=\"24px\"viewBox=\"0 0 24 24\"\n",
              "       width=\"24px\">\n",
              "    <path d=\"M0 0h24v24H0V0z\" fill=\"none\"/>\n",
              "    <path d=\"M18.56 5.44l.94 2.06.94-2.06 2.06-.94-2.06-.94-.94-2.06-.94 2.06-2.06.94zm-11 1L8.5 8.5l.94-2.06 2.06-.94-2.06-.94L8.5 2.5l-.94 2.06-2.06.94zm10 10l.94 2.06.94-2.06 2.06-.94-2.06-.94-.94-2.06-.94 2.06-2.06.94z\"/><path d=\"M17.41 7.96l-1.37-1.37c-.4-.4-.92-.59-1.43-.59-.52 0-1.04.2-1.43.59L10.3 9.45l-7.72 7.72c-.78.78-.78 2.05 0 2.83L4 21.41c.39.39.9.59 1.41.59.51 0 1.02-.2 1.41-.59l7.78-7.78 2.81-2.81c.8-.78.8-2.07 0-2.86zM5.41 20L4 18.59l7.72-7.72 1.47 1.35L5.41 20z\"/>\n",
              "  </svg>\n",
              "      </button>\n",
              "      \n",
              "  <style>\n",
              "    .colab-df-container {\n",
              "      display:flex;\n",
              "      flex-wrap:wrap;\n",
              "      gap: 12px;\n",
              "    }\n",
              "\n",
              "    .colab-df-convert {\n",
              "      background-color: #E8F0FE;\n",
              "      border: none;\n",
              "      border-radius: 50%;\n",
              "      cursor: pointer;\n",
              "      display: none;\n",
              "      fill: #1967D2;\n",
              "      height: 32px;\n",
              "      padding: 0 0 0 0;\n",
              "      width: 32px;\n",
              "    }\n",
              "\n",
              "    .colab-df-convert:hover {\n",
              "      background-color: #E2EBFA;\n",
              "      box-shadow: 0px 1px 2px rgba(60, 64, 67, 0.3), 0px 1px 3px 1px rgba(60, 64, 67, 0.15);\n",
              "      fill: #174EA6;\n",
              "    }\n",
              "\n",
              "    [theme=dark] .colab-df-convert {\n",
              "      background-color: #3B4455;\n",
              "      fill: #D2E3FC;\n",
              "    }\n",
              "\n",
              "    [theme=dark] .colab-df-convert:hover {\n",
              "      background-color: #434B5C;\n",
              "      box-shadow: 0px 1px 3px 1px rgba(0, 0, 0, 0.15);\n",
              "      filter: drop-shadow(0px 1px 2px rgba(0, 0, 0, 0.3));\n",
              "      fill: #FFFFFF;\n",
              "    }\n",
              "  </style>\n",
              "\n",
              "      <script>\n",
              "        const buttonEl =\n",
              "          document.querySelector('#df-f4cc56b6-18cb-41ab-b6f6-055f5c33848f button.colab-df-convert');\n",
              "        buttonEl.style.display =\n",
              "          google.colab.kernel.accessAllowed ? 'block' : 'none';\n",
              "\n",
              "        async function convertToInteractive(key) {\n",
              "          const element = document.querySelector('#df-f4cc56b6-18cb-41ab-b6f6-055f5c33848f');\n",
              "          const dataTable =\n",
              "            await google.colab.kernel.invokeFunction('convertToInteractive',\n",
              "                                                     [key], {});\n",
              "          if (!dataTable) return;\n",
              "\n",
              "          const docLinkHtml = 'Like what you see? Visit the ' +\n",
              "            '<a target=\"_blank\" href=https://colab.research.google.com/notebooks/data_table.ipynb>data table notebook</a>'\n",
              "            + ' to learn more about interactive tables.';\n",
              "          element.innerHTML = '';\n",
              "          dataTable['output_type'] = 'display_data';\n",
              "          await google.colab.output.renderOutput(dataTable, element);\n",
              "          const docLink = document.createElement('div');\n",
              "          docLink.innerHTML = docLinkHtml;\n",
              "          element.appendChild(docLink);\n",
              "        }\n",
              "      </script>\n",
              "    </div>\n",
              "  </div>\n",
              "  "
            ]
          },
          "metadata": {},
          "execution_count": 351
        }
      ],
      "source": [
        "#Importing & printing our Student dataset\n",
        "import pandas as pd\n",
        "dataset = pd.read_csv(r'/content/StudentData.csv')\n",
        "dataset"
      ]
    },
    {
      "cell_type": "code",
      "source": [
        "#Printing rows with NaN values\n",
        "dataset[dataset.isna().any(axis=1)]"
      ],
      "metadata": {
        "colab": {
          "base_uri": "https://localhost:8080/",
          "height": 175
        },
        "id": "2GycepjtDCs_",
        "outputId": "a2148486-2b84-41fc-e1ed-80518fb520ab"
      },
      "execution_count": 352,
      "outputs": [
        {
          "output_type": "execute_result",
          "data": {
            "text/plain": [
              "     Registration Number Badge Superbadge Department  Batch  Examly status now\n",
              "1284                   -     -          -        MCA   2023                NaN\n",
              "1285                   -     -          -        MCA   2023                NaN\n",
              "1286                   -     -          -        MCA   2023                NaN\n",
              "1287                   -     -          -        MCA   2023                NaN"
            ],
            "text/html": [
              "\n",
              "  <div id=\"df-3854fa47-d63a-477c-a0dc-c3ad3f8b2189\">\n",
              "    <div class=\"colab-df-container\">\n",
              "      <div>\n",
              "<style scoped>\n",
              "    .dataframe tbody tr th:only-of-type {\n",
              "        vertical-align: middle;\n",
              "    }\n",
              "\n",
              "    .dataframe tbody tr th {\n",
              "        vertical-align: top;\n",
              "    }\n",
              "\n",
              "    .dataframe thead th {\n",
              "        text-align: right;\n",
              "    }\n",
              "</style>\n",
              "<table border=\"1\" class=\"dataframe\">\n",
              "  <thead>\n",
              "    <tr style=\"text-align: right;\">\n",
              "      <th></th>\n",
              "      <th>Registration Number</th>\n",
              "      <th>Badge</th>\n",
              "      <th>Superbadge</th>\n",
              "      <th>Department</th>\n",
              "      <th>Batch</th>\n",
              "      <th>Examly status now</th>\n",
              "    </tr>\n",
              "  </thead>\n",
              "  <tbody>\n",
              "    <tr>\n",
              "      <th>1284</th>\n",
              "      <td>-</td>\n",
              "      <td>-</td>\n",
              "      <td>-</td>\n",
              "      <td>MCA</td>\n",
              "      <td>2023</td>\n",
              "      <td>NaN</td>\n",
              "    </tr>\n",
              "    <tr>\n",
              "      <th>1285</th>\n",
              "      <td>-</td>\n",
              "      <td>-</td>\n",
              "      <td>-</td>\n",
              "      <td>MCA</td>\n",
              "      <td>2023</td>\n",
              "      <td>NaN</td>\n",
              "    </tr>\n",
              "    <tr>\n",
              "      <th>1286</th>\n",
              "      <td>-</td>\n",
              "      <td>-</td>\n",
              "      <td>-</td>\n",
              "      <td>MCA</td>\n",
              "      <td>2023</td>\n",
              "      <td>NaN</td>\n",
              "    </tr>\n",
              "    <tr>\n",
              "      <th>1287</th>\n",
              "      <td>-</td>\n",
              "      <td>-</td>\n",
              "      <td>-</td>\n",
              "      <td>MCA</td>\n",
              "      <td>2023</td>\n",
              "      <td>NaN</td>\n",
              "    </tr>\n",
              "  </tbody>\n",
              "</table>\n",
              "</div>\n",
              "      <button class=\"colab-df-convert\" onclick=\"convertToInteractive('df-3854fa47-d63a-477c-a0dc-c3ad3f8b2189')\"\n",
              "              title=\"Convert this dataframe to an interactive table.\"\n",
              "              style=\"display:none;\">\n",
              "        \n",
              "  <svg xmlns=\"http://www.w3.org/2000/svg\" height=\"24px\"viewBox=\"0 0 24 24\"\n",
              "       width=\"24px\">\n",
              "    <path d=\"M0 0h24v24H0V0z\" fill=\"none\"/>\n",
              "    <path d=\"M18.56 5.44l.94 2.06.94-2.06 2.06-.94-2.06-.94-.94-2.06-.94 2.06-2.06.94zm-11 1L8.5 8.5l.94-2.06 2.06-.94-2.06-.94L8.5 2.5l-.94 2.06-2.06.94zm10 10l.94 2.06.94-2.06 2.06-.94-2.06-.94-.94-2.06-.94 2.06-2.06.94z\"/><path d=\"M17.41 7.96l-1.37-1.37c-.4-.4-.92-.59-1.43-.59-.52 0-1.04.2-1.43.59L10.3 9.45l-7.72 7.72c-.78.78-.78 2.05 0 2.83L4 21.41c.39.39.9.59 1.41.59.51 0 1.02-.2 1.41-.59l7.78-7.78 2.81-2.81c.8-.78.8-2.07 0-2.86zM5.41 20L4 18.59l7.72-7.72 1.47 1.35L5.41 20z\"/>\n",
              "  </svg>\n",
              "      </button>\n",
              "      \n",
              "  <style>\n",
              "    .colab-df-container {\n",
              "      display:flex;\n",
              "      flex-wrap:wrap;\n",
              "      gap: 12px;\n",
              "    }\n",
              "\n",
              "    .colab-df-convert {\n",
              "      background-color: #E8F0FE;\n",
              "      border: none;\n",
              "      border-radius: 50%;\n",
              "      cursor: pointer;\n",
              "      display: none;\n",
              "      fill: #1967D2;\n",
              "      height: 32px;\n",
              "      padding: 0 0 0 0;\n",
              "      width: 32px;\n",
              "    }\n",
              "\n",
              "    .colab-df-convert:hover {\n",
              "      background-color: #E2EBFA;\n",
              "      box-shadow: 0px 1px 2px rgba(60, 64, 67, 0.3), 0px 1px 3px 1px rgba(60, 64, 67, 0.15);\n",
              "      fill: #174EA6;\n",
              "    }\n",
              "\n",
              "    [theme=dark] .colab-df-convert {\n",
              "      background-color: #3B4455;\n",
              "      fill: #D2E3FC;\n",
              "    }\n",
              "\n",
              "    [theme=dark] .colab-df-convert:hover {\n",
              "      background-color: #434B5C;\n",
              "      box-shadow: 0px 1px 3px 1px rgba(0, 0, 0, 0.15);\n",
              "      filter: drop-shadow(0px 1px 2px rgba(0, 0, 0, 0.3));\n",
              "      fill: #FFFFFF;\n",
              "    }\n",
              "  </style>\n",
              "\n",
              "      <script>\n",
              "        const buttonEl =\n",
              "          document.querySelector('#df-3854fa47-d63a-477c-a0dc-c3ad3f8b2189 button.colab-df-convert');\n",
              "        buttonEl.style.display =\n",
              "          google.colab.kernel.accessAllowed ? 'block' : 'none';\n",
              "\n",
              "        async function convertToInteractive(key) {\n",
              "          const element = document.querySelector('#df-3854fa47-d63a-477c-a0dc-c3ad3f8b2189');\n",
              "          const dataTable =\n",
              "            await google.colab.kernel.invokeFunction('convertToInteractive',\n",
              "                                                     [key], {});\n",
              "          if (!dataTable) return;\n",
              "\n",
              "          const docLinkHtml = 'Like what you see? Visit the ' +\n",
              "            '<a target=\"_blank\" href=https://colab.research.google.com/notebooks/data_table.ipynb>data table notebook</a>'\n",
              "            + ' to learn more about interactive tables.';\n",
              "          element.innerHTML = '';\n",
              "          dataTable['output_type'] = 'display_data';\n",
              "          await google.colab.output.renderOutput(dataTable, element);\n",
              "          const docLink = document.createElement('div');\n",
              "          docLink.innerHTML = docLinkHtml;\n",
              "          element.appendChild(docLink);\n",
              "        }\n",
              "      </script>\n",
              "    </div>\n",
              "  </div>\n",
              "  "
            ]
          },
          "metadata": {},
          "execution_count": 352
        }
      ]
    },
    {
      "cell_type": "code",
      "source": [
        "#Removing rows with NaN values\n",
        "dataset = dataset.dropna()\n",
        "\n",
        "#Changed column name of 'Examly status now' to 'ExamlyScore'\n",
        "dataset = dataset.rename(columns={'Examly status now':'ExamlyScore'})\n",
        "\n",
        "#Removing rows with ExamlyScore=0\n",
        "#dataset = dataset[dataset.ExamlyScore!=0]\n",
        "\n",
        "dataset"
      ],
      "metadata": {
        "colab": {
          "base_uri": "https://localhost:8080/",
          "height": 423
        },
        "id": "cRhQ06XhGOpO",
        "outputId": "6ddfb79a-9265-49be-8165-14e1f5bed630"
      },
      "execution_count": 353,
      "outputs": [
        {
          "output_type": "execute_result",
          "data": {
            "text/plain": [
              "     Registration Number Badge Superbadge  \\\n",
              "0             19BAI10089  1729      21479   \n",
              "1             19BEE10029  4054      16179   \n",
              "2             19BCE10302  1279      17684   \n",
              "3             19BCE10205  4430      12878   \n",
              "4             19BOE10046  1559      15264   \n",
              "...                  ...   ...        ...   \n",
              "1279          19BCG10068     -          -   \n",
              "1280          19BOE10034     -          -   \n",
              "1281          19BCY10039     -          -   \n",
              "1282          19BME10026     -          -   \n",
              "1283          21MCA10147     -          -   \n",
              "\n",
              "                                           Department  Batch  ExamlyScore  \n",
              "0                              B.Tech CSE - AI and ML   2023      23208.0  \n",
              "1       B.Tech Electrical and Electronics Engineering   2023      20233.0  \n",
              "2             B.Tech Computer Science and Engineering   2023      18963.0  \n",
              "3             B.Tech Computer Science and Engineering   2023      17308.0  \n",
              "4                               B.Tech Bioengineering   2023      16823.0  \n",
              "...                                               ...    ...          ...  \n",
              "1279                   B.Tech CSE - Gaming Technology   2023          0.0  \n",
              "1280                            B.Tech Bioengineering   2023          0.0  \n",
              "1281  B.Tech CSE - Cyber Security & Digital Forensics   2023          0.0  \n",
              "1282                    B.Tech Mechanical Engineering   2023          0.0  \n",
              "1283                                              MCA   2023          0.0  \n",
              "\n",
              "[1284 rows x 6 columns]"
            ],
            "text/html": [
              "\n",
              "  <div id=\"df-d1278a99-4793-4770-9423-ac92e6133d71\">\n",
              "    <div class=\"colab-df-container\">\n",
              "      <div>\n",
              "<style scoped>\n",
              "    .dataframe tbody tr th:only-of-type {\n",
              "        vertical-align: middle;\n",
              "    }\n",
              "\n",
              "    .dataframe tbody tr th {\n",
              "        vertical-align: top;\n",
              "    }\n",
              "\n",
              "    .dataframe thead th {\n",
              "        text-align: right;\n",
              "    }\n",
              "</style>\n",
              "<table border=\"1\" class=\"dataframe\">\n",
              "  <thead>\n",
              "    <tr style=\"text-align: right;\">\n",
              "      <th></th>\n",
              "      <th>Registration Number</th>\n",
              "      <th>Badge</th>\n",
              "      <th>Superbadge</th>\n",
              "      <th>Department</th>\n",
              "      <th>Batch</th>\n",
              "      <th>ExamlyScore</th>\n",
              "    </tr>\n",
              "  </thead>\n",
              "  <tbody>\n",
              "    <tr>\n",
              "      <th>0</th>\n",
              "      <td>19BAI10089</td>\n",
              "      <td>1729</td>\n",
              "      <td>21479</td>\n",
              "      <td>B.Tech CSE - AI and ML</td>\n",
              "      <td>2023</td>\n",
              "      <td>23208.0</td>\n",
              "    </tr>\n",
              "    <tr>\n",
              "      <th>1</th>\n",
              "      <td>19BEE10029</td>\n",
              "      <td>4054</td>\n",
              "      <td>16179</td>\n",
              "      <td>B.Tech Electrical and Electronics Engineering</td>\n",
              "      <td>2023</td>\n",
              "      <td>20233.0</td>\n",
              "    </tr>\n",
              "    <tr>\n",
              "      <th>2</th>\n",
              "      <td>19BCE10302</td>\n",
              "      <td>1279</td>\n",
              "      <td>17684</td>\n",
              "      <td>B.Tech Computer Science and Engineering</td>\n",
              "      <td>2023</td>\n",
              "      <td>18963.0</td>\n",
              "    </tr>\n",
              "    <tr>\n",
              "      <th>3</th>\n",
              "      <td>19BCE10205</td>\n",
              "      <td>4430</td>\n",
              "      <td>12878</td>\n",
              "      <td>B.Tech Computer Science and Engineering</td>\n",
              "      <td>2023</td>\n",
              "      <td>17308.0</td>\n",
              "    </tr>\n",
              "    <tr>\n",
              "      <th>4</th>\n",
              "      <td>19BOE10046</td>\n",
              "      <td>1559</td>\n",
              "      <td>15264</td>\n",
              "      <td>B.Tech Bioengineering</td>\n",
              "      <td>2023</td>\n",
              "      <td>16823.0</td>\n",
              "    </tr>\n",
              "    <tr>\n",
              "      <th>...</th>\n",
              "      <td>...</td>\n",
              "      <td>...</td>\n",
              "      <td>...</td>\n",
              "      <td>...</td>\n",
              "      <td>...</td>\n",
              "      <td>...</td>\n",
              "    </tr>\n",
              "    <tr>\n",
              "      <th>1279</th>\n",
              "      <td>19BCG10068</td>\n",
              "      <td>-</td>\n",
              "      <td>-</td>\n",
              "      <td>B.Tech CSE - Gaming Technology</td>\n",
              "      <td>2023</td>\n",
              "      <td>0.0</td>\n",
              "    </tr>\n",
              "    <tr>\n",
              "      <th>1280</th>\n",
              "      <td>19BOE10034</td>\n",
              "      <td>-</td>\n",
              "      <td>-</td>\n",
              "      <td>B.Tech Bioengineering</td>\n",
              "      <td>2023</td>\n",
              "      <td>0.0</td>\n",
              "    </tr>\n",
              "    <tr>\n",
              "      <th>1281</th>\n",
              "      <td>19BCY10039</td>\n",
              "      <td>-</td>\n",
              "      <td>-</td>\n",
              "      <td>B.Tech CSE - Cyber Security &amp; Digital Forensics</td>\n",
              "      <td>2023</td>\n",
              "      <td>0.0</td>\n",
              "    </tr>\n",
              "    <tr>\n",
              "      <th>1282</th>\n",
              "      <td>19BME10026</td>\n",
              "      <td>-</td>\n",
              "      <td>-</td>\n",
              "      <td>B.Tech Mechanical Engineering</td>\n",
              "      <td>2023</td>\n",
              "      <td>0.0</td>\n",
              "    </tr>\n",
              "    <tr>\n",
              "      <th>1283</th>\n",
              "      <td>21MCA10147</td>\n",
              "      <td>-</td>\n",
              "      <td>-</td>\n",
              "      <td>MCA</td>\n",
              "      <td>2023</td>\n",
              "      <td>0.0</td>\n",
              "    </tr>\n",
              "  </tbody>\n",
              "</table>\n",
              "<p>1284 rows × 6 columns</p>\n",
              "</div>\n",
              "      <button class=\"colab-df-convert\" onclick=\"convertToInteractive('df-d1278a99-4793-4770-9423-ac92e6133d71')\"\n",
              "              title=\"Convert this dataframe to an interactive table.\"\n",
              "              style=\"display:none;\">\n",
              "        \n",
              "  <svg xmlns=\"http://www.w3.org/2000/svg\" height=\"24px\"viewBox=\"0 0 24 24\"\n",
              "       width=\"24px\">\n",
              "    <path d=\"M0 0h24v24H0V0z\" fill=\"none\"/>\n",
              "    <path d=\"M18.56 5.44l.94 2.06.94-2.06 2.06-.94-2.06-.94-.94-2.06-.94 2.06-2.06.94zm-11 1L8.5 8.5l.94-2.06 2.06-.94-2.06-.94L8.5 2.5l-.94 2.06-2.06.94zm10 10l.94 2.06.94-2.06 2.06-.94-2.06-.94-.94-2.06-.94 2.06-2.06.94z\"/><path d=\"M17.41 7.96l-1.37-1.37c-.4-.4-.92-.59-1.43-.59-.52 0-1.04.2-1.43.59L10.3 9.45l-7.72 7.72c-.78.78-.78 2.05 0 2.83L4 21.41c.39.39.9.59 1.41.59.51 0 1.02-.2 1.41-.59l7.78-7.78 2.81-2.81c.8-.78.8-2.07 0-2.86zM5.41 20L4 18.59l7.72-7.72 1.47 1.35L5.41 20z\"/>\n",
              "  </svg>\n",
              "      </button>\n",
              "      \n",
              "  <style>\n",
              "    .colab-df-container {\n",
              "      display:flex;\n",
              "      flex-wrap:wrap;\n",
              "      gap: 12px;\n",
              "    }\n",
              "\n",
              "    .colab-df-convert {\n",
              "      background-color: #E8F0FE;\n",
              "      border: none;\n",
              "      border-radius: 50%;\n",
              "      cursor: pointer;\n",
              "      display: none;\n",
              "      fill: #1967D2;\n",
              "      height: 32px;\n",
              "      padding: 0 0 0 0;\n",
              "      width: 32px;\n",
              "    }\n",
              "\n",
              "    .colab-df-convert:hover {\n",
              "      background-color: #E2EBFA;\n",
              "      box-shadow: 0px 1px 2px rgba(60, 64, 67, 0.3), 0px 1px 3px 1px rgba(60, 64, 67, 0.15);\n",
              "      fill: #174EA6;\n",
              "    }\n",
              "\n",
              "    [theme=dark] .colab-df-convert {\n",
              "      background-color: #3B4455;\n",
              "      fill: #D2E3FC;\n",
              "    }\n",
              "\n",
              "    [theme=dark] .colab-df-convert:hover {\n",
              "      background-color: #434B5C;\n",
              "      box-shadow: 0px 1px 3px 1px rgba(0, 0, 0, 0.15);\n",
              "      filter: drop-shadow(0px 1px 2px rgba(0, 0, 0, 0.3));\n",
              "      fill: #FFFFFF;\n",
              "    }\n",
              "  </style>\n",
              "\n",
              "      <script>\n",
              "        const buttonEl =\n",
              "          document.querySelector('#df-d1278a99-4793-4770-9423-ac92e6133d71 button.colab-df-convert');\n",
              "        buttonEl.style.display =\n",
              "          google.colab.kernel.accessAllowed ? 'block' : 'none';\n",
              "\n",
              "        async function convertToInteractive(key) {\n",
              "          const element = document.querySelector('#df-d1278a99-4793-4770-9423-ac92e6133d71');\n",
              "          const dataTable =\n",
              "            await google.colab.kernel.invokeFunction('convertToInteractive',\n",
              "                                                     [key], {});\n",
              "          if (!dataTable) return;\n",
              "\n",
              "          const docLinkHtml = 'Like what you see? Visit the ' +\n",
              "            '<a target=\"_blank\" href=https://colab.research.google.com/notebooks/data_table.ipynb>data table notebook</a>'\n",
              "            + ' to learn more about interactive tables.';\n",
              "          element.innerHTML = '';\n",
              "          dataTable['output_type'] = 'display_data';\n",
              "          await google.colab.output.renderOutput(dataTable, element);\n",
              "          const docLink = document.createElement('div');\n",
              "          docLink.innerHTML = docLinkHtml;\n",
              "          element.appendChild(docLink);\n",
              "        }\n",
              "      </script>\n",
              "    </div>\n",
              "  </div>\n",
              "  "
            ]
          },
          "metadata": {},
          "execution_count": 353
        }
      ]
    },
    {
      "cell_type": "code",
      "source": [
        "len(dataset)"
      ],
      "metadata": {
        "colab": {
          "base_uri": "https://localhost:8080/"
        },
        "id": "4j_amq0ZKbvF",
        "outputId": "c777b807-01bd-4525-e7f2-0a135603fd63"
      },
      "execution_count": 354,
      "outputs": [
        {
          "output_type": "execute_result",
          "data": {
            "text/plain": [
              "1284"
            ]
          },
          "metadata": {},
          "execution_count": 354
        }
      ]
    },
    {
      "cell_type": "code",
      "source": [
        "import numpy as np\n",
        "\n",
        "#Adding column of CGPA\n",
        "dataset[\"CGPA\"] = np.round(np.random.uniform(5.0,10.0,len(dataset)),2)\n",
        "\n",
        "#Adding column of Time based on ExamlyScore\n",
        "def categoriseTime(row):  \n",
        "    if row['ExamlyScore'] > 500 and row['ExamlyScore'] <= 1000:\n",
        "        return np.round(np.random.uniform(2.0,4.0),2)\n",
        "    elif row['ExamlyScore'] > 1000 and row['ExamlyScore'] <= 2000:\n",
        "        return np.round(np.random.uniform(4.0,6.0),2)\n",
        "    elif row['ExamlyScore'] > 2000 and row['ExamlyScore'] <= 5000:\n",
        "        return np.round(np.random.uniform(6.0,8.0),2)\n",
        "    elif row['ExamlyScore'] > 5000 and row['ExamlyScore'] <= 10000:\n",
        "        return np.round(np.random.uniform(8.0,10.0),2)\n",
        "    elif row['ExamlyScore'] > 10000:\n",
        "        return np.round(np.random.uniform(10.0,12.0),2)\n",
        "    return np.round(np.random.uniform(0.0,2.0),2)\n",
        "\n",
        "dataset['Time'] = dataset.apply(lambda row: categoriseTime(row), axis=1)\n",
        "\n",
        "#Adding columns of Class10 & Class12\n",
        "dataset[\"Class10\"] = np.round(np.random.uniform(40.0,100.0,len(dataset)),2)\n",
        "dataset[\"Class12\"] = np.round(np.random.uniform(40.0,100.0,len(dataset)),2)\n",
        "\n",
        "#Adding column of Backlog based on CGPA\n",
        "def categoriseBacklog(row):  \n",
        "    if row['CGPA'] > 7.5:\n",
        "        return 0\n",
        "    return np.random.randint(0,2)\n",
        "\n",
        "dataset['Backlog'] = dataset.apply(lambda row: categoriseBacklog(row), axis=1) \n",
        "\n",
        "#Adding column of 'Placement' based on ExamlyScore, CGPA & Backlog\n",
        "def categorisePlacement(row):  \n",
        "    if row['Backlog'] == 0 and row['CGPA'] >= 6:\n",
        "        if row['ExamlyScore'] > 2000 and row['ExamlyScore'] <= 5000:\n",
        "            return 'R'\n",
        "        elif row['ExamlyScore'] > 5000 and row['ExamlyScore'] <= 10000:\n",
        "            return 'D'\n",
        "        elif row['ExamlyScore'] > 10000:\n",
        "            return 'SD'\n",
        "    return 'N'\n",
        "\n",
        "dataset['Placement'] = dataset.apply(lambda row: categorisePlacement(row), axis=1)\n",
        "\n",
        "dataset"
      ],
      "metadata": {
        "colab": {
          "base_uri": "https://localhost:8080/",
          "height": 520
        },
        "id": "1pN-WAzJJAZv",
        "outputId": "3acff3e8-d70d-47d9-c802-865dd4a26fb4"
      },
      "execution_count": 355,
      "outputs": [
        {
          "output_type": "execute_result",
          "data": {
            "text/plain": [
              "     Registration Number Badge Superbadge  \\\n",
              "0             19BAI10089  1729      21479   \n",
              "1             19BEE10029  4054      16179   \n",
              "2             19BCE10302  1279      17684   \n",
              "3             19BCE10205  4430      12878   \n",
              "4             19BOE10046  1559      15264   \n",
              "...                  ...   ...        ...   \n",
              "1279          19BCG10068     -          -   \n",
              "1280          19BOE10034     -          -   \n",
              "1281          19BCY10039     -          -   \n",
              "1282          19BME10026     -          -   \n",
              "1283          21MCA10147     -          -   \n",
              "\n",
              "                                           Department  Batch  ExamlyScore  \\\n",
              "0                              B.Tech CSE - AI and ML   2023      23208.0   \n",
              "1       B.Tech Electrical and Electronics Engineering   2023      20233.0   \n",
              "2             B.Tech Computer Science and Engineering   2023      18963.0   \n",
              "3             B.Tech Computer Science and Engineering   2023      17308.0   \n",
              "4                               B.Tech Bioengineering   2023      16823.0   \n",
              "...                                               ...    ...          ...   \n",
              "1279                   B.Tech CSE - Gaming Technology   2023          0.0   \n",
              "1280                            B.Tech Bioengineering   2023          0.0   \n",
              "1281  B.Tech CSE - Cyber Security & Digital Forensics   2023          0.0   \n",
              "1282                    B.Tech Mechanical Engineering   2023          0.0   \n",
              "1283                                              MCA   2023          0.0   \n",
              "\n",
              "      CGPA   Time  Class10  Class12  Backlog Placement  \n",
              "0     7.31  11.95    77.55    83.76        0        SD  \n",
              "1     5.77  10.06    61.88    90.91        0         N  \n",
              "2     9.98  11.33    98.12    92.86        0        SD  \n",
              "3     8.77  11.48    56.73    86.75        0        SD  \n",
              "4     8.64  10.09    91.66    41.44        0        SD  \n",
              "...    ...    ...      ...      ...      ...       ...  \n",
              "1279  6.99   0.68    96.40    60.40        1         N  \n",
              "1280  5.49   0.58    69.70    98.27        1         N  \n",
              "1281  5.47   0.03    62.72    66.17        1         N  \n",
              "1282  5.95   0.49    73.76    84.03        0         N  \n",
              "1283  8.77   0.99    40.71    74.96        0         N  \n",
              "\n",
              "[1284 rows x 12 columns]"
            ],
            "text/html": [
              "\n",
              "  <div id=\"df-1deab04b-6537-410c-aa46-b96902c29686\">\n",
              "    <div class=\"colab-df-container\">\n",
              "      <div>\n",
              "<style scoped>\n",
              "    .dataframe tbody tr th:only-of-type {\n",
              "        vertical-align: middle;\n",
              "    }\n",
              "\n",
              "    .dataframe tbody tr th {\n",
              "        vertical-align: top;\n",
              "    }\n",
              "\n",
              "    .dataframe thead th {\n",
              "        text-align: right;\n",
              "    }\n",
              "</style>\n",
              "<table border=\"1\" class=\"dataframe\">\n",
              "  <thead>\n",
              "    <tr style=\"text-align: right;\">\n",
              "      <th></th>\n",
              "      <th>Registration Number</th>\n",
              "      <th>Badge</th>\n",
              "      <th>Superbadge</th>\n",
              "      <th>Department</th>\n",
              "      <th>Batch</th>\n",
              "      <th>ExamlyScore</th>\n",
              "      <th>CGPA</th>\n",
              "      <th>Time</th>\n",
              "      <th>Class10</th>\n",
              "      <th>Class12</th>\n",
              "      <th>Backlog</th>\n",
              "      <th>Placement</th>\n",
              "    </tr>\n",
              "  </thead>\n",
              "  <tbody>\n",
              "    <tr>\n",
              "      <th>0</th>\n",
              "      <td>19BAI10089</td>\n",
              "      <td>1729</td>\n",
              "      <td>21479</td>\n",
              "      <td>B.Tech CSE - AI and ML</td>\n",
              "      <td>2023</td>\n",
              "      <td>23208.0</td>\n",
              "      <td>7.31</td>\n",
              "      <td>11.95</td>\n",
              "      <td>77.55</td>\n",
              "      <td>83.76</td>\n",
              "      <td>0</td>\n",
              "      <td>SD</td>\n",
              "    </tr>\n",
              "    <tr>\n",
              "      <th>1</th>\n",
              "      <td>19BEE10029</td>\n",
              "      <td>4054</td>\n",
              "      <td>16179</td>\n",
              "      <td>B.Tech Electrical and Electronics Engineering</td>\n",
              "      <td>2023</td>\n",
              "      <td>20233.0</td>\n",
              "      <td>5.77</td>\n",
              "      <td>10.06</td>\n",
              "      <td>61.88</td>\n",
              "      <td>90.91</td>\n",
              "      <td>0</td>\n",
              "      <td>N</td>\n",
              "    </tr>\n",
              "    <tr>\n",
              "      <th>2</th>\n",
              "      <td>19BCE10302</td>\n",
              "      <td>1279</td>\n",
              "      <td>17684</td>\n",
              "      <td>B.Tech Computer Science and Engineering</td>\n",
              "      <td>2023</td>\n",
              "      <td>18963.0</td>\n",
              "      <td>9.98</td>\n",
              "      <td>11.33</td>\n",
              "      <td>98.12</td>\n",
              "      <td>92.86</td>\n",
              "      <td>0</td>\n",
              "      <td>SD</td>\n",
              "    </tr>\n",
              "    <tr>\n",
              "      <th>3</th>\n",
              "      <td>19BCE10205</td>\n",
              "      <td>4430</td>\n",
              "      <td>12878</td>\n",
              "      <td>B.Tech Computer Science and Engineering</td>\n",
              "      <td>2023</td>\n",
              "      <td>17308.0</td>\n",
              "      <td>8.77</td>\n",
              "      <td>11.48</td>\n",
              "      <td>56.73</td>\n",
              "      <td>86.75</td>\n",
              "      <td>0</td>\n",
              "      <td>SD</td>\n",
              "    </tr>\n",
              "    <tr>\n",
              "      <th>4</th>\n",
              "      <td>19BOE10046</td>\n",
              "      <td>1559</td>\n",
              "      <td>15264</td>\n",
              "      <td>B.Tech Bioengineering</td>\n",
              "      <td>2023</td>\n",
              "      <td>16823.0</td>\n",
              "      <td>8.64</td>\n",
              "      <td>10.09</td>\n",
              "      <td>91.66</td>\n",
              "      <td>41.44</td>\n",
              "      <td>0</td>\n",
              "      <td>SD</td>\n",
              "    </tr>\n",
              "    <tr>\n",
              "      <th>...</th>\n",
              "      <td>...</td>\n",
              "      <td>...</td>\n",
              "      <td>...</td>\n",
              "      <td>...</td>\n",
              "      <td>...</td>\n",
              "      <td>...</td>\n",
              "      <td>...</td>\n",
              "      <td>...</td>\n",
              "      <td>...</td>\n",
              "      <td>...</td>\n",
              "      <td>...</td>\n",
              "      <td>...</td>\n",
              "    </tr>\n",
              "    <tr>\n",
              "      <th>1279</th>\n",
              "      <td>19BCG10068</td>\n",
              "      <td>-</td>\n",
              "      <td>-</td>\n",
              "      <td>B.Tech CSE - Gaming Technology</td>\n",
              "      <td>2023</td>\n",
              "      <td>0.0</td>\n",
              "      <td>6.99</td>\n",
              "      <td>0.68</td>\n",
              "      <td>96.40</td>\n",
              "      <td>60.40</td>\n",
              "      <td>1</td>\n",
              "      <td>N</td>\n",
              "    </tr>\n",
              "    <tr>\n",
              "      <th>1280</th>\n",
              "      <td>19BOE10034</td>\n",
              "      <td>-</td>\n",
              "      <td>-</td>\n",
              "      <td>B.Tech Bioengineering</td>\n",
              "      <td>2023</td>\n",
              "      <td>0.0</td>\n",
              "      <td>5.49</td>\n",
              "      <td>0.58</td>\n",
              "      <td>69.70</td>\n",
              "      <td>98.27</td>\n",
              "      <td>1</td>\n",
              "      <td>N</td>\n",
              "    </tr>\n",
              "    <tr>\n",
              "      <th>1281</th>\n",
              "      <td>19BCY10039</td>\n",
              "      <td>-</td>\n",
              "      <td>-</td>\n",
              "      <td>B.Tech CSE - Cyber Security &amp; Digital Forensics</td>\n",
              "      <td>2023</td>\n",
              "      <td>0.0</td>\n",
              "      <td>5.47</td>\n",
              "      <td>0.03</td>\n",
              "      <td>62.72</td>\n",
              "      <td>66.17</td>\n",
              "      <td>1</td>\n",
              "      <td>N</td>\n",
              "    </tr>\n",
              "    <tr>\n",
              "      <th>1282</th>\n",
              "      <td>19BME10026</td>\n",
              "      <td>-</td>\n",
              "      <td>-</td>\n",
              "      <td>B.Tech Mechanical Engineering</td>\n",
              "      <td>2023</td>\n",
              "      <td>0.0</td>\n",
              "      <td>5.95</td>\n",
              "      <td>0.49</td>\n",
              "      <td>73.76</td>\n",
              "      <td>84.03</td>\n",
              "      <td>0</td>\n",
              "      <td>N</td>\n",
              "    </tr>\n",
              "    <tr>\n",
              "      <th>1283</th>\n",
              "      <td>21MCA10147</td>\n",
              "      <td>-</td>\n",
              "      <td>-</td>\n",
              "      <td>MCA</td>\n",
              "      <td>2023</td>\n",
              "      <td>0.0</td>\n",
              "      <td>8.77</td>\n",
              "      <td>0.99</td>\n",
              "      <td>40.71</td>\n",
              "      <td>74.96</td>\n",
              "      <td>0</td>\n",
              "      <td>N</td>\n",
              "    </tr>\n",
              "  </tbody>\n",
              "</table>\n",
              "<p>1284 rows × 12 columns</p>\n",
              "</div>\n",
              "      <button class=\"colab-df-convert\" onclick=\"convertToInteractive('df-1deab04b-6537-410c-aa46-b96902c29686')\"\n",
              "              title=\"Convert this dataframe to an interactive table.\"\n",
              "              style=\"display:none;\">\n",
              "        \n",
              "  <svg xmlns=\"http://www.w3.org/2000/svg\" height=\"24px\"viewBox=\"0 0 24 24\"\n",
              "       width=\"24px\">\n",
              "    <path d=\"M0 0h24v24H0V0z\" fill=\"none\"/>\n",
              "    <path d=\"M18.56 5.44l.94 2.06.94-2.06 2.06-.94-2.06-.94-.94-2.06-.94 2.06-2.06.94zm-11 1L8.5 8.5l.94-2.06 2.06-.94-2.06-.94L8.5 2.5l-.94 2.06-2.06.94zm10 10l.94 2.06.94-2.06 2.06-.94-2.06-.94-.94-2.06-.94 2.06-2.06.94z\"/><path d=\"M17.41 7.96l-1.37-1.37c-.4-.4-.92-.59-1.43-.59-.52 0-1.04.2-1.43.59L10.3 9.45l-7.72 7.72c-.78.78-.78 2.05 0 2.83L4 21.41c.39.39.9.59 1.41.59.51 0 1.02-.2 1.41-.59l7.78-7.78 2.81-2.81c.8-.78.8-2.07 0-2.86zM5.41 20L4 18.59l7.72-7.72 1.47 1.35L5.41 20z\"/>\n",
              "  </svg>\n",
              "      </button>\n",
              "      \n",
              "  <style>\n",
              "    .colab-df-container {\n",
              "      display:flex;\n",
              "      flex-wrap:wrap;\n",
              "      gap: 12px;\n",
              "    }\n",
              "\n",
              "    .colab-df-convert {\n",
              "      background-color: #E8F0FE;\n",
              "      border: none;\n",
              "      border-radius: 50%;\n",
              "      cursor: pointer;\n",
              "      display: none;\n",
              "      fill: #1967D2;\n",
              "      height: 32px;\n",
              "      padding: 0 0 0 0;\n",
              "      width: 32px;\n",
              "    }\n",
              "\n",
              "    .colab-df-convert:hover {\n",
              "      background-color: #E2EBFA;\n",
              "      box-shadow: 0px 1px 2px rgba(60, 64, 67, 0.3), 0px 1px 3px 1px rgba(60, 64, 67, 0.15);\n",
              "      fill: #174EA6;\n",
              "    }\n",
              "\n",
              "    [theme=dark] .colab-df-convert {\n",
              "      background-color: #3B4455;\n",
              "      fill: #D2E3FC;\n",
              "    }\n",
              "\n",
              "    [theme=dark] .colab-df-convert:hover {\n",
              "      background-color: #434B5C;\n",
              "      box-shadow: 0px 1px 3px 1px rgba(0, 0, 0, 0.15);\n",
              "      filter: drop-shadow(0px 1px 2px rgba(0, 0, 0, 0.3));\n",
              "      fill: #FFFFFF;\n",
              "    }\n",
              "  </style>\n",
              "\n",
              "      <script>\n",
              "        const buttonEl =\n",
              "          document.querySelector('#df-1deab04b-6537-410c-aa46-b96902c29686 button.colab-df-convert');\n",
              "        buttonEl.style.display =\n",
              "          google.colab.kernel.accessAllowed ? 'block' : 'none';\n",
              "\n",
              "        async function convertToInteractive(key) {\n",
              "          const element = document.querySelector('#df-1deab04b-6537-410c-aa46-b96902c29686');\n",
              "          const dataTable =\n",
              "            await google.colab.kernel.invokeFunction('convertToInteractive',\n",
              "                                                     [key], {});\n",
              "          if (!dataTable) return;\n",
              "\n",
              "          const docLinkHtml = 'Like what you see? Visit the ' +\n",
              "            '<a target=\"_blank\" href=https://colab.research.google.com/notebooks/data_table.ipynb>data table notebook</a>'\n",
              "            + ' to learn more about interactive tables.';\n",
              "          element.innerHTML = '';\n",
              "          dataTable['output_type'] = 'display_data';\n",
              "          await google.colab.output.renderOutput(dataTable, element);\n",
              "          const docLink = document.createElement('div');\n",
              "          docLink.innerHTML = docLinkHtml;\n",
              "          element.appendChild(docLink);\n",
              "        }\n",
              "      </script>\n",
              "    </div>\n",
              "  </div>\n",
              "  "
            ]
          },
          "metadata": {},
          "execution_count": 355
        }
      ]
    },
    {
      "cell_type": "code",
      "source": [
        "#Linear Regression using Time to predict ExamlyScore\n",
        "\n",
        "X = dataset.iloc[:, [7]].values\n",
        "y = dataset.iloc[:,[5]].values\n",
        "print(X)\n",
        "print(y)\n",
        "#Split data into training and testing set\n",
        "from sklearn.model_selection import train_test_split\n",
        "X_train, X_test, y_train, y_test = train_test_split(X, y, test_size= 0.2, random_state=0)\n",
        "print(X_train) \n",
        "print(X_test) \n",
        "print(y_train)\n",
        "print(y_test)\n"
      ],
      "metadata": {
        "colab": {
          "base_uri": "https://localhost:8080/"
        },
        "id": "e39Bx9woi3KT",
        "outputId": "c4896129-3548-421f-ffb7-85949af27bd7"
      },
      "execution_count": 357,
      "outputs": [
        {
          "output_type": "stream",
          "name": "stdout",
          "text": [
            "[[11.95]\n",
            " [10.06]\n",
            " [11.33]\n",
            " ...\n",
            " [ 0.03]\n",
            " [ 0.49]\n",
            " [ 0.99]]\n",
            "[[23208.]\n",
            " [20233.]\n",
            " [18963.]\n",
            " ...\n",
            " [    0.]\n",
            " [    0.]\n",
            " [    0.]]\n",
            "[[6.65]\n",
            " [4.53]\n",
            " [4.82]\n",
            " ...\n",
            " [1.15]\n",
            " [4.75]\n",
            " [3.26]]\n",
            "[[2.790e+00]\n",
            " [4.690e+00]\n",
            " [5.380e+00]\n",
            " [6.180e+00]\n",
            " [1.290e+00]\n",
            " [3.910e+00]\n",
            " [1.120e+00]\n",
            " [5.510e+00]\n",
            " [3.090e+00]\n",
            " [1.700e+00]\n",
            " [5.940e+00]\n",
            " [7.540e+00]\n",
            " [7.200e+00]\n",
            " [1.140e+00]\n",
            " [9.800e+00]\n",
            " [7.020e+00]\n",
            " [5.800e-01]\n",
            " [6.180e+00]\n",
            " [1.520e+00]\n",
            " [5.630e+00]\n",
            " [1.700e+00]\n",
            " [5.500e+00]\n",
            " [5.130e+00]\n",
            " [8.400e-01]\n",
            " [1.059e+01]\n",
            " [6.600e-01]\n",
            " [1.600e-01]\n",
            " [6.850e+00]\n",
            " [2.200e-01]\n",
            " [5.020e+00]\n",
            " [8.160e+00]\n",
            " [7.910e+00]\n",
            " [6.720e+00]\n",
            " [3.600e-01]\n",
            " [7.970e+00]\n",
            " [5.730e+00]\n",
            " [8.190e+00]\n",
            " [4.250e+00]\n",
            " [3.380e+00]\n",
            " [1.790e+00]\n",
            " [6.500e+00]\n",
            " [5.580e+00]\n",
            " [1.430e+00]\n",
            " [2.660e+00]\n",
            " [3.100e-01]\n",
            " [4.190e+00]\n",
            " [7.500e-01]\n",
            " [3.930e+00]\n",
            " [8.500e-01]\n",
            " [1.850e+00]\n",
            " [2.300e-01]\n",
            " [8.340e+00]\n",
            " [5.100e-01]\n",
            " [7.490e+00]\n",
            " [1.640e+00]\n",
            " [4.000e+00]\n",
            " [3.800e-01]\n",
            " [9.200e-01]\n",
            " [4.870e+00]\n",
            " [5.300e+00]\n",
            " [7.940e+00]\n",
            " [2.720e+00]\n",
            " [5.630e+00]\n",
            " [4.020e+00]\n",
            " [4.820e+00]\n",
            " [5.800e-01]\n",
            " [6.460e+00]\n",
            " [1.157e+01]\n",
            " [5.130e+00]\n",
            " [1.470e+00]\n",
            " [4.900e-01]\n",
            " [8.800e-01]\n",
            " [1.150e+00]\n",
            " [1.340e+00]\n",
            " [3.450e+00]\n",
            " [4.180e+00]\n",
            " [6.630e+00]\n",
            " [6.100e-01]\n",
            " [1.920e+00]\n",
            " [7.740e+00]\n",
            " [1.150e+00]\n",
            " [4.150e+00]\n",
            " [5.640e+00]\n",
            " [3.000e-02]\n",
            " [9.000e-02]\n",
            " [8.100e-01]\n",
            " [1.280e+00]\n",
            " [6.270e+00]\n",
            " [3.980e+00]\n",
            " [3.620e+00]\n",
            " [3.000e-02]\n",
            " [9.600e-01]\n",
            " [2.690e+00]\n",
            " [4.190e+00]\n",
            " [1.006e+01]\n",
            " [5.260e+00]\n",
            " [2.610e+00]\n",
            " [2.410e+00]\n",
            " [4.650e+00]\n",
            " [9.730e+00]\n",
            " [7.990e+00]\n",
            " [1.380e+00]\n",
            " [6.190e+00]\n",
            " [2.070e+00]\n",
            " [8.050e+00]\n",
            " [6.960e+00]\n",
            " [7.000e-01]\n",
            " [5.380e+00]\n",
            " [5.660e+00]\n",
            " [1.970e+00]\n",
            " [1.510e+00]\n",
            " [4.210e+00]\n",
            " [5.670e+00]\n",
            " [4.430e+00]\n",
            " [1.780e+00]\n",
            " [2.170e+00]\n",
            " [7.190e+00]\n",
            " [7.510e+00]\n",
            " [7.820e+00]\n",
            " [1.194e+01]\n",
            " [1.300e+00]\n",
            " [3.190e+00]\n",
            " [5.300e-01]\n",
            " [5.110e+00]\n",
            " [5.570e+00]\n",
            " [4.320e+00]\n",
            " [6.680e+00]\n",
            " [1.680e+00]\n",
            " [6.260e+00]\n",
            " [7.550e+00]\n",
            " [2.000e-02]\n",
            " [4.680e+00]\n",
            " [1.020e+00]\n",
            " [4.270e+00]\n",
            " [1.200e+00]\n",
            " [3.490e+00]\n",
            " [1.310e+00]\n",
            " [4.310e+00]\n",
            " [1.890e+00]\n",
            " [8.700e-01]\n",
            " [5.300e-01]\n",
            " [5.030e+00]\n",
            " [1.040e+00]\n",
            " [3.000e+00]\n",
            " [8.870e+00]\n",
            " [6.490e+00]\n",
            " [1.600e-01]\n",
            " [2.400e-01]\n",
            " [5.210e+00]\n",
            " [8.860e+00]\n",
            " [5.140e+00]\n",
            " [7.590e+00]\n",
            " [4.650e+00]\n",
            " [4.720e+00]\n",
            " [6.450e+00]\n",
            " [4.890e+00]\n",
            " [1.970e+00]\n",
            " [5.780e+00]\n",
            " [7.970e+00]\n",
            " [4.610e+00]\n",
            " [1.050e+00]\n",
            " [1.181e+01]\n",
            " [7.410e+00]\n",
            " [1.740e+00]\n",
            " [1.740e+00]\n",
            " [1.270e+00]\n",
            " [1.047e+01]\n",
            " [6.350e+00]\n",
            " [5.120e+00]\n",
            " [3.000e-01]\n",
            " [2.070e+00]\n",
            " [4.730e+00]\n",
            " [1.000e-02]\n",
            " [1.380e+00]\n",
            " [4.460e+00]\n",
            " [4.410e+00]\n",
            " [2.400e-01]\n",
            " [4.850e+00]\n",
            " [1.180e+00]\n",
            " [4.540e+00]\n",
            " [4.000e-02]\n",
            " [3.540e+00]\n",
            " [4.350e+00]\n",
            " [4.620e+00]\n",
            " [5.740e+00]\n",
            " [3.100e-01]\n",
            " [2.910e+00]\n",
            " [1.160e+00]\n",
            " [1.840e+00]\n",
            " [7.900e+00]\n",
            " [5.810e+00]\n",
            " [1.340e+00]\n",
            " [5.060e+00]\n",
            " [5.010e+00]\n",
            " [6.670e+00]\n",
            " [5.520e+00]\n",
            " [4.790e+00]\n",
            " [5.200e+00]\n",
            " [5.880e+00]\n",
            " [7.250e+00]\n",
            " [5.250e+00]\n",
            " [4.150e+00]\n",
            " [5.430e+00]\n",
            " [2.600e-01]\n",
            " [7.400e-01]\n",
            " [5.550e+00]\n",
            " [6.260e+00]\n",
            " [1.290e+00]\n",
            " [4.780e+00]\n",
            " [7.420e+00]\n",
            " [5.050e+00]\n",
            " [4.180e+00]\n",
            " [9.800e-01]\n",
            " [7.170e+00]\n",
            " [9.050e+00]\n",
            " [2.400e+00]\n",
            " [6.710e+00]\n",
            " [1.930e+00]\n",
            " [4.630e+00]\n",
            " [4.050e+00]\n",
            " [7.970e+00]\n",
            " [1.760e+00]\n",
            " [4.110e+00]\n",
            " [5.400e-01]\n",
            " [1.750e+00]\n",
            " [6.670e+00]\n",
            " [2.330e+00]\n",
            " [1.430e+00]\n",
            " [6.930e+00]\n",
            " [4.290e+00]\n",
            " [1.610e+00]\n",
            " [4.090e+00]\n",
            " [1.390e+00]\n",
            " [6.000e-01]\n",
            " [4.920e+00]\n",
            " [9.580e+00]\n",
            " [5.530e+00]\n",
            " [5.320e+00]\n",
            " [1.030e+00]\n",
            " [2.590e+00]\n",
            " [3.500e-01]\n",
            " [2.830e+00]\n",
            " [2.260e+00]\n",
            " [4.700e+00]\n",
            " [1.200e-01]\n",
            " [5.030e+00]\n",
            " [1.120e+00]\n",
            " [6.630e+00]\n",
            " [9.000e-02]\n",
            " [2.130e+00]\n",
            " [1.170e+00]\n",
            " [9.560e+00]\n",
            " [4.600e+00]\n",
            " [3.000e-01]\n",
            " [5.590e+00]\n",
            " [1.770e+00]\n",
            " [1.020e+00]]\n",
            "[[2010.]\n",
            " [1631.]\n",
            " [1139.]\n",
            " ...\n",
            " [   0.]\n",
            " [1250.]\n",
            " [ 966.]]\n",
            "[[7.0000e+02]\n",
            " [1.0500e+03]\n",
            " [1.3760e+03]\n",
            " [2.9490e+03]\n",
            " [0.0000e+00]\n",
            " [5.7700e+02]\n",
            " [0.0000e+00]\n",
            " [1.2360e+03]\n",
            " [8.3800e+02]\n",
            " [0.0000e+00]\n",
            " [1.3960e+03]\n",
            " [3.6590e+03]\n",
            " [2.6280e+03]\n",
            " [0.0000e+00]\n",
            " [6.4330e+03]\n",
            " [2.0760e+03]\n",
            " [0.0000e+00]\n",
            " [3.3860e+03]\n",
            " [1.7000e+01]\n",
            " [1.4060e+03]\n",
            " [0.0000e+00]\n",
            " [1.4780e+03]\n",
            " [1.2920e+03]\n",
            " [0.0000e+00]\n",
            " [1.6648e+04]\n",
            " [1.0500e+02]\n",
            " [1.5000e+01]\n",
            " [2.0210e+03]\n",
            " [0.0000e+00]\n",
            " [1.7130e+03]\n",
            " [9.1380e+03]\n",
            " [3.6570e+03]\n",
            " [2.5740e+03]\n",
            " [0.0000e+00]\n",
            " [3.5140e+03]\n",
            " [1.4500e+03]\n",
            " [6.5190e+03]\n",
            " [1.0260e+03]\n",
            " [7.7400e+02]\n",
            " [1.4100e+02]\n",
            " [4.1560e+03]\n",
            " [1.3700e+03]\n",
            " [9.5000e+01]\n",
            " [7.2600e+02]\n",
            " [2.9800e+02]\n",
            " [1.2400e+03]\n",
            " [0.0000e+00]\n",
            " [9.4800e+02]\n",
            " [0.0000e+00]\n",
            " [0.0000e+00]\n",
            " [2.3000e+01]\n",
            " [6.9430e+03]\n",
            " [6.0000e+00]\n",
            " [2.3750e+03]\n",
            " [0.0000e+00]\n",
            " [1.6750e+03]\n",
            " [0.0000e+00]\n",
            " [2.0000e+00]\n",
            " [1.2050e+03]\n",
            " [1.7770e+03]\n",
            " [2.7960e+03]\n",
            " [8.6100e+02]\n",
            " [1.1580e+03]\n",
            " [1.1370e+03]\n",
            " [1.3520e+03]\n",
            " [0.0000e+00]\n",
            " [2.9810e+03]\n",
            " [1.1928e+04]\n",
            " [1.4300e+03]\n",
            " [0.0000e+00]\n",
            " [7.3000e+01]\n",
            " [0.0000e+00]\n",
            " [2.2100e+02]\n",
            " [0.0000e+00]\n",
            " [7.9900e+02]\n",
            " [1.3740e+03]\n",
            " [2.3750e+03]\n",
            " [0.0000e+00]\n",
            " [3.2600e+02]\n",
            " [2.1690e+03]\n",
            " [0.0000e+00]\n",
            " [1.5670e+03]\n",
            " [1.5320e+03]\n",
            " [0.0000e+00]\n",
            " [0.0000e+00]\n",
            " [0.0000e+00]\n",
            " [0.0000e+00]\n",
            " [4.8690e+03]\n",
            " [7.8900e+02]\n",
            " [9.9600e+02]\n",
            " [0.0000e+00]\n",
            " [0.0000e+00]\n",
            " [8.4500e+02]\n",
            " [1.8140e+03]\n",
            " [2.0233e+04]\n",
            " [1.0210e+03]\n",
            " [5.7800e+02]\n",
            " [9.9200e+02]\n",
            " [1.8700e+03]\n",
            " [6.2200e+03]\n",
            " [3.1680e+03]\n",
            " [0.0000e+00]\n",
            " [2.0610e+03]\n",
            " [8.1900e+02]\n",
            " [7.6040e+03]\n",
            " [3.1090e+03]\n",
            " [0.0000e+00]\n",
            " [1.0600e+03]\n",
            " [1.4850e+03]\n",
            " [1.5000e+01]\n",
            " [1.4000e+01]\n",
            " [1.3920e+03]\n",
            " [1.7690e+03]\n",
            " [1.6120e+03]\n",
            " [0.0000e+00]\n",
            " [8.8000e+02]\n",
            " [3.0820e+03]\n",
            " [2.1100e+03]\n",
            " [3.4080e+03]\n",
            " [1.2678e+04]\n",
            " [0.0000e+00]\n",
            " [9.3400e+02]\n",
            " [8.0000e+01]\n",
            " [1.5610e+03]\n",
            " [1.4420e+03]\n",
            " [1.5510e+03]\n",
            " [2.9580e+03]\n",
            " [0.0000e+00]\n",
            " [2.6370e+03]\n",
            " [3.9000e+03]\n",
            " [3.1600e+02]\n",
            " [1.2190e+03]\n",
            " [2.1700e+02]\n",
            " [1.5980e+03]\n",
            " [0.0000e+00]\n",
            " [9.1900e+02]\n",
            " [0.0000e+00]\n",
            " [1.4320e+03]\n",
            " [0.0000e+00]\n",
            " [0.0000e+00]\n",
            " [0.0000e+00]\n",
            " [1.6580e+03]\n",
            " [4.7100e+02]\n",
            " [7.8700e+02]\n",
            " [6.0300e+03]\n",
            " [4.6840e+03]\n",
            " [0.0000e+00]\n",
            " [9.6000e+01]\n",
            " [1.6190e+03]\n",
            " [5.1370e+03]\n",
            " [1.7410e+03]\n",
            " [3.6700e+03]\n",
            " [1.4120e+03]\n",
            " [1.7310e+03]\n",
            " [2.2780e+03]\n",
            " [1.4070e+03]\n",
            " [6.0000e+00]\n",
            " [1.9180e+03]\n",
            " [3.4260e+03]\n",
            " [1.2060e+03]\n",
            " [0.0000e+00]\n",
            " [1.4552e+04]\n",
            " [2.5470e+03]\n",
            " [0.0000e+00]\n",
            " [0.0000e+00]\n",
            " [0.0000e+00]\n",
            " [1.0105e+04]\n",
            " [2.8610e+03]\n",
            " [1.2800e+03]\n",
            " [1.1500e+02]\n",
            " [9.2900e+02]\n",
            " [1.8930e+03]\n",
            " [0.0000e+00]\n",
            " [6.4000e+01]\n",
            " [1.9340e+03]\n",
            " [1.4630e+03]\n",
            " [0.0000e+00]\n",
            " [1.3170e+03]\n",
            " [0.0000e+00]\n",
            " [1.2040e+03]\n",
            " [0.0000e+00]\n",
            " [8.0400e+02]\n",
            " [1.6710e+03]\n",
            " [1.2770e+03]\n",
            " [1.8990e+03]\n",
            " [1.1300e+02]\n",
            " [7.1100e+02]\n",
            " [0.0000e+00]\n",
            " [1.7500e+02]\n",
            " [2.1830e+03]\n",
            " [1.0090e+03]\n",
            " [0.0000e+00]\n",
            " [1.1540e+03]\n",
            " [1.0450e+03]\n",
            " [2.1350e+03]\n",
            " [1.4850e+03]\n",
            " [1.6380e+03]\n",
            " [1.5060e+03]\n",
            " [1.3520e+03]\n",
            " [2.0640e+03]\n",
            " [1.3100e+03]\n",
            " [1.4890e+03]\n",
            " [1.2120e+03]\n",
            " [3.8000e+01]\n",
            " [6.4000e+01]\n",
            " [1.4340e+03]\n",
            " [2.1400e+03]\n",
            " [0.0000e+00]\n",
            " [1.1900e+03]\n",
            " [2.5060e+03]\n",
            " [1.2660e+03]\n",
            " [1.2790e+03]\n",
            " [0.0000e+00]\n",
            " [2.0800e+03]\n",
            " [8.6470e+03]\n",
            " [6.0100e+02]\n",
            " [2.6970e+03]\n",
            " [0.0000e+00]\n",
            " [1.2180e+03]\n",
            " [1.0180e+03]\n",
            " [2.3730e+03]\n",
            " [0.0000e+00]\n",
            " [1.6800e+03]\n",
            " [1.4500e+02]\n",
            " [1.3200e+02]\n",
            " [2.4640e+03]\n",
            " [9.9900e+02]\n",
            " [1.8600e+02]\n",
            " [3.0340e+03]\n",
            " [1.9860e+03]\n",
            " [0.0000e+00]\n",
            " [1.2860e+03]\n",
            " [0.0000e+00]\n",
            " [2.4900e+02]\n",
            " [1.0140e+03]\n",
            " [6.6610e+03]\n",
            " [1.2600e+03]\n",
            " [1.2640e+03]\n",
            " [2.1900e+02]\n",
            " [8.7500e+02]\n",
            " [0.0000e+00]\n",
            " [7.6700e+02]\n",
            " [8.2100e+02]\n",
            " [1.8780e+03]\n",
            " [0.0000e+00]\n",
            " [1.6500e+03]\n",
            " [0.0000e+00]\n",
            " [2.4830e+03]\n",
            " [0.0000e+00]\n",
            " [7.9900e+02]\n",
            " [2.9500e+02]\n",
            " [6.9630e+03]\n",
            " [1.0340e+03]\n",
            " [0.0000e+00]\n",
            " [1.2210e+03]\n",
            " [0.0000e+00]\n",
            " [1.0500e+02]]\n"
          ]
        }
      ]
    },
    {
      "cell_type": "code",
      "source": [
        "#Fit Simple Linear Regression to Training Data\n",
        "from sklearn.linear_model import LinearRegression\n",
        "regressor = LinearRegression() #we are creating object of the linearregression\n",
        "regressor.fit(X_train, y_train)"
      ],
      "metadata": {
        "colab": {
          "base_uri": "https://localhost:8080/"
        },
        "id": "CkHsX9Tge4ZN",
        "outputId": "753cba27-c2b0-4529-c624-c213117494b6"
      },
      "execution_count": 358,
      "outputs": [
        {
          "output_type": "execute_result",
          "data": {
            "text/plain": [
              "LinearRegression()"
            ]
          },
          "metadata": {},
          "execution_count": 358
        }
      ]
    },
    {
      "cell_type": "code",
      "source": [
        "#Make Prediction\n",
        "y_pred = regressor.predict(X_test)"
      ],
      "metadata": {
        "id": "ODb34rToe6iS"
      },
      "execution_count": 359,
      "outputs": []
    },
    {
      "cell_type": "code",
      "source": [
        "#Visualize training set results\n",
        "import matplotlib.pyplot as plt\n",
        "# plot the actual data points of training set\n",
        "plt.scatter(X_train, y_train, color = 'green')\n",
        "# plot the regression line\n",
        "plt.plot(X_train, regressor.predict(X_train), color='red')\n",
        "plt.title('ExamlyScore vs Time (Training set)')\n",
        "plt.xlabel('Time') #independent variable\n",
        "plt.ylabel('ExamlyScore') #dependent variable\n",
        "plt.show()"
      ],
      "metadata": {
        "colab": {
          "base_uri": "https://localhost:8080/",
          "height": 295
        },
        "id": "eTG5Bw2-e_wD",
        "outputId": "c09e3b18-14d3-4f67-8685-f78921286a23"
      },
      "execution_count": 360,
      "outputs": [
        {
          "output_type": "display_data",
          "data": {
            "text/plain": [
              "<Figure size 432x288 with 1 Axes>"
            ],
            "image/png": "[encoded data removed]"
          },
          "metadata": {
            "needs_background": "light"
          }
        }
      ]
    },
    {
      "cell_type": "code",
      "source": [
        "#Visualize test set results\n",
        "import matplotlib.pyplot as plt\n",
        "# plot the actual data points of test set\n",
        "plt.scatter(X_test, y_test, color = 'gold')\n",
        "# plot the regression line (same as above)\n",
        "plt.plot(X_test, regressor.predict(X_test), color='purple')\n",
        "plt.title('ExamlyScore vs Time (Test set)')\n",
        "plt.xlabel('Time') #independent variable\n",
        "plt.ylabel('ExamlyScore') #dependent variable\n",
        "plt.show()"
      ],
      "metadata": {
        "colab": {
          "base_uri": "https://localhost:8080/",
          "height": 295
        },
        "id": "w-QfCQd0iotV",
        "outputId": "9d40985c-500f-464f-a766-bb0a46628959"
      },
      "execution_count": 361,
      "outputs": [
        {
          "output_type": "display_data",
          "data": {
            "text/plain": [
              "<Figure size 432x288 with 1 Axes>"
            ],
            "image/png": "[encoded data removed]"
          },
          "metadata": {
            "needs_background": "light"
          }
        }
      ]
    },
    {
      "cell_type": "code",
      "source": [
        "#Make new prediction\n",
        "new_examlyscore_pred = np.round(regressor.predict([[9]]),1)\n",
        "print('The predicted examly score of a person who puts in 9 hours daily is ',new_examlyscore_pred)"
      ],
      "metadata": {
        "colab": {
          "base_uri": "https://localhost:8080/"
        },
        "id": "9IK1Qw9-jnOf",
        "outputId": "4a56ca5e-eb59-4677-a5f0-2bcd87b42e65"
      },
      "execution_count": 362,
      "outputs": [
        {
          "output_type": "stream",
          "name": "stdout",
          "text": [
            "The predicted examly score of a person who puts in 9 hours daily is  [[5117.9]]\n"
          ]
        }
      ]
    },
    {
      "cell_type": "code",
      "source": [
        "new_examlyscore_pred = np.round(regressor.predict([[10]]),1)\n",
        "print('The predicted examly score of a person who puts in 10 hours daily is ',new_examlyscore_pred)"
      ],
      "metadata": {
        "colab": {
          "base_uri": "https://localhost:8080/"
        },
        "id": "3NzajZi57uFX",
        "outputId": "7a18656f-b5ee-46f6-eed3-2de589e93b7f"
      },
      "execution_count": 363,
      "outputs": [
        {
          "output_type": "stream",
          "name": "stdout",
          "text": [
            "The predicted examly score of a person who puts in 10 hours daily is  [[5812.]]\n"
          ]
        }
      ]
    },
    {
      "cell_type": "code",
      "source": [
        "new_examlyscore_pred = np.round(regressor.predict([[3]]),1)\n",
        "print('The predicted examly score of a person who puts in 3 hours daily is ',new_examlyscore_pred)"
      ],
      "metadata": {
        "colab": {
          "base_uri": "https://localhost:8080/"
        },
        "id": "jvk962pH7zIg",
        "outputId": "eac11a55-edf0-4016-cea5-dd14de2571ce"
      },
      "execution_count": 364,
      "outputs": [
        {
          "output_type": "stream",
          "name": "stdout",
          "text": [
            "The predicted examly score of a person who puts in 3 hours daily is  [[953.]]\n"
          ]
        }
      ]
    },
    {
      "cell_type": "code",
      "source": [
        "#Logistic Regression to predict placement type using ExamlyScore, CGPA, Backlog\n",
        "import scipy as scp\n",
        "import sklearn\n",
        "\n",
        "from sklearn.model_selection import train_test_split\n",
        "from sklearn.linear_model import LogisticRegression\n",
        "from sklearn.metrics import classification_report\n",
        "from sklearn import metrics \n",
        "from sklearn.metrics import confusion_matrix, ConfusionMatrixDisplay\n",
        "\n",
        "import statsmodels.api as sm\n",
        "import matplotlib.pyplot as plt"
      ],
      "metadata": {
        "id": "u1hejuB7-lny"
      },
      "execution_count": 365,
      "outputs": []
    },
    {
      "cell_type": "code",
      "source": [
        "Dataset_Placement=dataset[[\"Placement\"]].value_counts()\n",
        "print(Dataset_Placement)"
      ],
      "metadata": {
        "colab": {
          "base_uri": "https://localhost:8080/"
        },
        "id": "UShwV_2oGMGZ",
        "outputId": "e8745881-5a17-485e-da63-03e9e5ce1067"
      },
      "execution_count": 367,
      "outputs": [
        {
          "output_type": "stream",
          "name": "stdout",
          "text": [
            "Placement\n",
            "N            1065\n",
            "R             164\n",
            "D              32\n",
            "SD             23\n",
            "dtype: int64\n"
          ]
        }
      ]
    },
    {
      "cell_type": "code",
      "source": [
        "X = dataset[[\"ExamlyScore\",\"CGPA\",\"Backlog\"]]\n",
        "y = dataset[[\"Placement\"]]\n",
        "\n",
        "print(list(X.columns.values))\n",
        "print(X) \n",
        "\n",
        "X_train, X_test, y_train, y_test = sklearn.model_selection.train_test_split(X, y, test_size = 0.20, random_state = 5)\n",
        "print(X_train.shape)\n",
        "print(X_test.shape)\n",
        "print(y_train.shape)\n",
        "print(y_test.shape)"
      ],
      "metadata": {
        "colab": {
          "base_uri": "https://localhost:8080/"
        },
        "id": "TZPWu61P_jWa",
        "outputId": "f8b0e9c4-408a-4460-b8b1-c01140a1e6a3"
      },
      "execution_count": 368,
      "outputs": [
        {
          "output_type": "stream",
          "name": "stdout",
          "text": [
            "['ExamlyScore', 'CGPA', 'Backlog']\n",
            "      ExamlyScore  CGPA  Backlog\n",
            "0         23208.0  7.31        0\n",
            "1         20233.0  5.77        0\n",
            "2         18963.0  9.98        0\n",
            "3         17308.0  8.77        0\n",
            "4         16823.0  8.64        0\n",
            "...           ...   ...      ...\n",
            "1279          0.0  6.99        1\n",
            "1280          0.0  5.49        1\n",
            "1281          0.0  5.47        1\n",
            "1282          0.0  5.95        0\n",
            "1283          0.0  8.77        0\n",
            "\n",
            "[1284 rows x 3 columns]\n",
            "(1027, 3)\n",
            "(257, 3)\n",
            "(1027, 1)\n",
            "(257, 1)\n"
          ]
        }
      ]
    },
    {
      "cell_type": "code",
      "source": [
        "model1 = LogisticRegression(random_state=0, multi_class='multinomial', penalty='none', solver='newton-cg').fit(X_train, y_train)\n",
        "preds = model1.predict(X_test)\n",
        "\n",
        "#print the tunable parameters (They were not tuned in this example, everything kept as default)\n",
        "params = model1.get_params()\n",
        "print(params)"
      ],
      "metadata": {
        "colab": {
          "base_uri": "https://localhost:8080/"
        },
        "id": "SusgB7JnD9yS",
        "outputId": "23df5533-c0a5-4c92-db7e-3b9b2efcdb54"
      },
      "execution_count": 369,
      "outputs": [
        {
          "output_type": "stream",
          "name": "stderr",
          "text": [
            "/usr/local/lib/python3.7/dist-packages/sklearn/utils/validation.py:993: DataConversionWarning: A column-vector y was passed when a 1d array was expected. Please change the shape of y to (n_samples, ), for example using ravel().\n",
            "  y = column_or_1d(y, warn=True)\n"
          ]
        },
        {
          "output_type": "stream",
          "name": "stdout",
          "text": [
            "{'C': 1.0, 'class_weight': None, 'dual': False, 'fit_intercept': True, 'intercept_scaling': 1, 'l1_ratio': None, 'max_iter': 100, 'multi_class': 'multinomial', 'n_jobs': None, 'penalty': 'none', 'random_state': 0, 'solver': 'newton-cg', 'tol': 0.0001, 'verbose': 0, 'warm_start': False}\n"
          ]
        },
        {
          "output_type": "stream",
          "name": "stderr",
          "text": [
            "/usr/local/lib/python3.7/dist-packages/scipy/optimize/linesearch.py:466: LineSearchWarning: The line search algorithm did not converge\n",
            "  warn('The line search algorithm did not converge', LineSearchWarning)\n",
            "/usr/local/lib/python3.7/dist-packages/scipy/optimize/linesearch.py:314: LineSearchWarning: The line search algorithm did not converge\n",
            "  warn('The line search algorithm did not converge', LineSearchWarning)\n",
            "/usr/local/lib/python3.7/dist-packages/sklearn/utils/optimize.py:212: ConvergenceWarning: newton-cg failed to converge. Increase the number of iterations.\n",
            "  ConvergenceWarning,\n"
          ]
        }
      ]
    },
    {
      "cell_type": "code",
      "source": [
        "#Predicting the placement type for an individual with ExamlyScore=12000, CGPA=9.2, Backlog=0\n",
        "a = model1.predict([[12000,9.2,0]])\n",
        "a"
      ],
      "metadata": {
        "colab": {
          "base_uri": "https://localhost:8080/"
        },
        "id": "MTkbvN3cN09i",
        "outputId": "b524b0da-3141-48f9-b74d-1bbe42dd525d"
      },
      "execution_count": 370,
      "outputs": [
        {
          "output_type": "stream",
          "name": "stderr",
          "text": [
            "/usr/local/lib/python3.7/dist-packages/sklearn/base.py:451: UserWarning: X does not have valid feature names, but LogisticRegression was fitted with feature names\n",
            "  \"X does not have valid feature names, but\"\n"
          ]
        },
        {
          "output_type": "execute_result",
          "data": {
            "text/plain": [
              "array(['SD'], dtype=object)"
            ]
          },
          "metadata": {},
          "execution_count": 370
        }
      ]
    },
    {
      "cell_type": "code",
      "source": [
        "#Predicting the placement type for an individual with ExamlyScore=30000, CGPA=8.4, Backlog=0\n",
        "b = model1.predict([[300000,8.4,0]])\n",
        "b"
      ],
      "metadata": {
        "colab": {
          "base_uri": "https://localhost:8080/"
        },
        "id": "GL7TCSGaPNcI",
        "outputId": "3b166248-b135-463c-ab75-70cdb8a517cc"
      },
      "execution_count": 371,
      "outputs": [
        {
          "output_type": "stream",
          "name": "stderr",
          "text": [
            "/usr/local/lib/python3.7/dist-packages/sklearn/base.py:451: UserWarning: X does not have valid feature names, but LogisticRegression was fitted with feature names\n",
            "  \"X does not have valid feature names, but\"\n"
          ]
        },
        {
          "output_type": "execute_result",
          "data": {
            "text/plain": [
              "array(['SD'], dtype=object)"
            ]
          },
          "metadata": {},
          "execution_count": 371
        }
      ]
    },
    {
      "cell_type": "code",
      "source": [
        "#Predicting the placement type for an individual with ExamlyScore=7500, CGPA=9.8, Backlog=0\n",
        "c = model1.predict([[7500,9.8,0]])\n",
        "c"
      ],
      "metadata": {
        "colab": {
          "base_uri": "https://localhost:8080/"
        },
        "id": "fxSknA83PcPv",
        "outputId": "6554355c-bd33-4f61-8d83-76ca35856afb"
      },
      "execution_count": 372,
      "outputs": [
        {
          "output_type": "stream",
          "name": "stderr",
          "text": [
            "/usr/local/lib/python3.7/dist-packages/sklearn/base.py:451: UserWarning: X does not have valid feature names, but LogisticRegression was fitted with feature names\n",
            "  \"X does not have valid feature names, but\"\n"
          ]
        },
        {
          "output_type": "execute_result",
          "data": {
            "text/plain": [
              "array(['D'], dtype=object)"
            ]
          },
          "metadata": {},
          "execution_count": 372
        }
      ]
    },
    {
      "cell_type": "code",
      "source": [
        "#Predicting the placement type for an individual with ExamlyScore=12000, CGPA=6, Backlog=1\n",
        "d = model1.predict([[3000,6,1]])\n",
        "d"
      ],
      "metadata": {
        "colab": {
          "base_uri": "https://localhost:8080/"
        },
        "id": "PJ-6XX3nPs-U",
        "outputId": "d74dd5be-fbd8-4a9a-c05c-163d37a4d07e"
      },
      "execution_count": 373,
      "outputs": [
        {
          "output_type": "stream",
          "name": "stderr",
          "text": [
            "/usr/local/lib/python3.7/dist-packages/sklearn/base.py:451: UserWarning: X does not have valid feature names, but LogisticRegression was fitted with feature names\n",
            "  \"X does not have valid feature names, but\"\n"
          ]
        },
        {
          "output_type": "execute_result",
          "data": {
            "text/plain": [
              "array(['N'], dtype=object)"
            ]
          },
          "metadata": {},
          "execution_count": 373
        }
      ]
    },
    {
      "cell_type": "code",
      "source": [
        "#Print model parameters\n",
        "print('Intercept: \\n', model1.intercept_)\n",
        "print('Coefficients: \\n', model1.coef_)"
      ],
      "metadata": {
        "colab": {
          "base_uri": "https://localhost:8080/"
        },
        "id": "9VPSSIW3FJPR",
        "outputId": "cb0f6f63-6ea9-482d-d561-38870552a443"
      },
      "execution_count": 374,
      "outputs": [
        {
          "output_type": "stream",
          "name": "stdout",
          "text": [
            "Intercept: \n",
            " [-4.75244078 10.25659642  3.12694498 -8.63110061]\n",
            "Coefficients: \n",
            " [[ 4.40574014e-04  3.53520826e-01 -4.10272427e+00]\n",
            " [-1.18255778e-03 -6.13487230e-01  1.23514586e+01]\n",
            " [-2.77470947e-05 -1.50914041e-01 -2.65487893e+00]\n",
            " [ 7.69730912e-04  4.10880445e-01 -5.59385537e+00]]\n"
          ]
        }
      ]
    },
    {
      "cell_type": "code",
      "source": [
        "#Create a confusion matrix\n",
        "#y_test as first argument and the preds as second argument \n",
        "cm = confusion_matrix(y_test, preds, labels=[\"N\",\"R\",\"D\",\"SD\"])\n",
        "print(cm)\n",
        "disp = ConfusionMatrixDisplay(confusion_matrix=cm)\n",
        "disp.plot()\n"
      ],
      "metadata": {
        "colab": {
          "base_uri": "https://localhost:8080/",
          "height": 366
        },
        "id": "vXC9CDaGFYXz",
        "outputId": "79266a4f-34e2-4100-f284-8faa1bd69219"
      },
      "execution_count": 375,
      "outputs": [
        {
          "output_type": "stream",
          "name": "stdout",
          "text": [
            "[[224   2   0   0]\n",
            " [  9  13   0   0]\n",
            " [  0   4   0   0]\n",
            " [  0   0   1   4]]\n"
          ]
        },
        {
          "output_type": "execute_result",
          "data": {
            "text/plain": [
              "<sklearn.metrics._plot.confusion_matrix.ConfusionMatrixDisplay at 0x7f85c99972d0>"
            ]
          },
          "metadata": {},
          "execution_count": 375
        },
        {
          "output_type": "display_data",
          "data": {
            "text/plain": [
              "<Figure size 432x288 with 2 Axes>"
            ],
            "image/png": "[encoded data removed]"
          },
          "metadata": {
            "needs_background": "light"
          }
        }
      ]
    },
    {
      "cell_type": "code",
      "source": [
        "colors = np.array(range(0,1284))\n",
        "\n",
        "plt.scatter(dataset['Placement'], dataset['ExamlyScore'], c=colors, cmap='viridis')\n",
        "\n",
        "# Adding Title to the Plot\n",
        "plt.title(\"Scatter Plot\")\n",
        "\n",
        "# Setting the X and Y labels\n",
        "plt.xlabel('Placement')\n",
        "plt.ylabel('ExamlyScore')\n",
        "\n",
        "plt.colorbar()\n",
        "\n",
        "plt.show()\n"
      ],
      "metadata": {
        "colab": {
          "base_uri": "https://localhost:8080/",
          "height": 295
        },
        "id": "gbNaqr6yG8za",
        "outputId": "05b5bfff-7fd5-4cd8-ca26-77f6b3cb700a"
      },
      "execution_count": 324,
      "outputs": [
        {
          "output_type": "display_data",
          "data": {
            "text/plain": [
              "<Figure size 432x288 with 2 Axes>"
            ],
            "image/png": "[encoded data removed]"
          },
          "metadata": {
            "needs_background": "light"
          }
        }
      ]
    },
    {
      "cell_type": "code",
      "source": [
        ""
      ],
      "metadata": {
        "id": "LdebSHhpaZUC"
      },
      "execution_count": 324,
      "outputs": []
    },
    {
      "cell_type": "code",
      "source": [
        "#placement_dict = {'N' : 1, 'R' : 2, 'D' : 3, 'SD' : 4}\n",
        "#dataset['Placement'] = dataset['Placement'].map(placement_dict)"
      ],
      "metadata": {
        "id": "nEulhL0QaY_q"
      },
      "execution_count": 325,
      "outputs": []
    },
    {
      "cell_type": "code",
      "source": [
        "plt.scatter(dataset['Placement'], dataset['Backlog'])\n",
        "\n",
        "# Adding Title to the Plot\n",
        "plt.title(\"Scatter Plot\")\n",
        "\n",
        "# Setting the X and Y labels\n",
        "plt.xlabel('Placement')\n",
        "plt.ylabel('Backlog')\n",
        "\n",
        "plt.show()"
      ],
      "metadata": {
        "colab": {
          "base_uri": "https://localhost:8080/",
          "height": 295
        },
        "id": "fEORwdIbZ2Pw",
        "outputId": "c058e1c0-24c1-422f-ff6a-0ee8aa7310a9"
      },
      "execution_count": 326,
      "outputs": [
        {
          "output_type": "display_data",
          "data": {
            "text/plain": [
              "<Figure size 432x288 with 1 Axes>"
            ],
            "image/png": "[encoded data removed]"
          },
          "metadata": {
            "needs_background": "light"
          }
        }
      ]
    },
    {
      "cell_type": "code",
      "source": [
        "plt.scatter(dataset['Placement'], dataset['CGPA'])\n",
        "\n",
        "# Adding Title to the Plot\n",
        "plt.title(\"Scatter Plot\")\n",
        "\n",
        "# Setting the X and Y labels\n",
        "plt.xlabel('Placement')\n",
        "plt.ylabel('CGPA')\n",
        "\n",
        "plt.show()"
      ],
      "metadata": {
        "colab": {
          "base_uri": "https://localhost:8080/",
          "height": 295
        },
        "id": "3swQQQj5aBs6",
        "outputId": "b743620e-c8e6-43de-cb31-2149eb86a7e1"
      },
      "execution_count": 327,
      "outputs": [
        {
          "output_type": "display_data",
          "data": {
            "text/plain": [
              "<Figure size 432x288 with 1 Axes>"
            ],
            "image/png": "[encoded data removed]"
          },
          "metadata": {
            "needs_background": "light"
          }
        }
      ]
    },
    {
      "cell_type": "code",
      "source": [
        "#Removing rows with ExamlyScore=0 and Placement='N'\n",
        "dataset = dataset[dataset.ExamlyScore!=0]\n",
        "dataset = dataset[dataset.Placement!='N']"
      ],
      "metadata": {
        "id": "g23bXi-RqAd-"
      },
      "execution_count": 328,
      "outputs": []
    },
    {
      "cell_type": "code",
      "source": [
        "plt.scatter(dataset['Placement'], dataset['Department'])\n",
        "\n",
        "# Adding Title to the Plot\n",
        "plt.title(\"Scatter Plot\")\n",
        "\n",
        "# Setting the X and Y labels\n",
        "plt.xlabel('Placement')\n",
        "plt.ylabel('Department')\n",
        "\n",
        "plt.show()\n"
      ],
      "metadata": {
        "colab": {
          "base_uri": "https://localhost:8080/",
          "height": 295
        },
        "id": "9X_UtrTebiyH",
        "outputId": "01309d84-c157-49f2-8ed6-ec3c05305007"
      },
      "execution_count": 329,
      "outputs": [
        {
          "output_type": "display_data",
          "data": {
            "text/plain": [
              "<Figure size 432x288 with 1 Axes>"
            ],
            "image/png": "[encoded data removed]"
          },
          "metadata": {
            "needs_background": "light"
          }
        }
      ]
    },
    {
      "cell_type": "code",
      "source": [
        "dataset.Department.unique()"
      ],
      "metadata": {
        "colab": {
          "base_uri": "https://localhost:8080/"
        },
        "id": "f7CO24eKiug1",
        "outputId": "6a0bcabd-0cab-46b4-ea48-c2f5fde8bd94"
      },
      "execution_count": 330,
      "outputs": [
        {
          "output_type": "execute_result",
          "data": {
            "text/plain": [
              "array(['B.Tech Computer Science and Engineering', 'B.Tech Bioengineering',\n",
              "       'B.Tech CSE - AI and ML',\n",
              "       'B.Tech CSE - Cyber Security & Digital Forensics',\n",
              "       'B.Tech Electronics and Communication Engineering',\n",
              "       'B.Tech CSE - Gaming Technology', 'B.Tech Mechanical Engineering',\n",
              "       'B.Tech Electrical and Electronics Engineering', 'BAS'],\n",
              "      dtype=object)"
            ]
          },
          "metadata": {},
          "execution_count": 330
        }
      ]
    },
    {
      "cell_type": "code",
      "source": [
        "#Random Forest Classifier to predict placements based on department\n",
        "\n",
        "department_dict = {'B.Tech CSE - AI and ML' : 1,\n",
        "       'B.Tech Electrical and Electronics Engineering' : 2,\n",
        "       'B.Tech Computer Science and Engineering' : 3, 'B.Tech Bioengineering' : 4,\n",
        "       'B.Tech CSE - Gaming Technology' : 5,\n",
        "       'B.Tech CSE - Cyber Security & Digital Forensics' : 6,\n",
        "       'B.Tech Electronics and Communication Engineering' : 7,\n",
        "       'B.Tech Mechanical Engineering' : 8, 'BAS' : 9, 'MCA' : 10,\n",
        "       'M.Tech VLSI Design' : 11,\n",
        "       'M.Tech CSE - Cyber Security & Digital forensics' : 12, 'MCF' : 13,\n",
        "       'M.Tech Computer Science & Engineering' : 14}\n",
        "dataset['Department'] = dataset['Department'].map(department_dict)"
      ],
      "metadata": {
        "id": "WSTcK9mga7DV"
      },
      "execution_count": 331,
      "outputs": []
    },
    {
      "cell_type": "code",
      "source": [
        "X = dataset[['Department']]\n",
        "y = dataset[['Placement']]\n",
        "print(X)\n",
        "print(y)"
      ],
      "metadata": {
        "colab": {
          "base_uri": "https://localhost:8080/"
        },
        "id": "g_PXi3T3lY03",
        "outputId": "eeca816f-0072-4408-a861-8145d852d679"
      },
      "execution_count": 332,
      "outputs": [
        {
          "output_type": "stream",
          "name": "stdout",
          "text": [
            "     Department\n",
            "2             3\n",
            "3             3\n",
            "4             4\n",
            "5             1\n",
            "6             3\n",
            "..          ...\n",
            "325           1\n",
            "326           6\n",
            "327           5\n",
            "328           6\n",
            "330           4\n",
            "\n",
            "[191 rows x 1 columns]\n",
            "    Placement\n",
            "2          SD\n",
            "3          SD\n",
            "4          SD\n",
            "5          SD\n",
            "6          SD\n",
            "..        ...\n",
            "325         R\n",
            "326         R\n",
            "327         R\n",
            "328         R\n",
            "330         R\n",
            "\n",
            "[191 rows x 1 columns]\n"
          ]
        }
      ]
    },
    {
      "cell_type": "code",
      "source": [
        "from sklearn.model_selection import train_test_split\n",
        "X_train,X_test,y_train,y_test=train_test_split(X,y,test_size=0.50,random_state=101)\n",
        "print(X_train)\n",
        "print(X_test)\n",
        "print(y_train)\n",
        "print(y_test)\n",
        "from sklearn.ensemble import RandomForestClassifier\n",
        "rf = RandomForestClassifier (n_estimators = 120, criterion = 'entropy', max_depth = 10)\n",
        "rf.fit (X_train, y_train)\n"
      ],
      "metadata": {
        "colab": {
          "base_uri": "https://localhost:8080/"
        },
        "id": "nZQ7THJ_l0AG",
        "outputId": "3da866be-f367-4c53-cec5-b5c555b7b79c"
      },
      "execution_count": 376,
      "outputs": [
        {
          "output_type": "stream",
          "name": "stdout",
          "text": [
            "      ExamlyScore  CGPA  Backlog\n",
            "473        1476.0  5.99        0\n",
            "791         730.0  7.68        0\n",
            "990          15.0  7.31        1\n",
            "910         187.0  6.15        0\n",
            "1018          0.0  8.63        0\n",
            "...           ...   ...      ...\n",
            "575        1225.0  9.52        0\n",
            "973          36.0  9.25        0\n",
            "75         5137.0  9.52        0\n",
            "599        1183.0  8.42        0\n",
            "863         358.0  9.91        0\n",
            "\n",
            "[642 rows x 3 columns]\n",
            "      ExamlyScore  CGPA  Backlog\n",
            "452        1532.0  5.15        1\n",
            "147        3592.0  8.31        0\n",
            "242        2545.0  8.05        0\n",
            "1283          0.0  8.77        0\n",
            "754         799.0  7.79        0\n",
            "...           ...   ...      ...\n",
            "83         4888.0  6.59        1\n",
            "258        2438.0  9.07        0\n",
            "234        2620.0  7.83        0\n",
            "735         825.0  7.24        1\n",
            "781         746.0  8.29        0\n",
            "\n",
            "[642 rows x 3 columns]\n",
            "     Placement\n",
            "473          N\n",
            "791          N\n",
            "990          N\n",
            "910          N\n",
            "1018         N\n",
            "...        ...\n",
            "575          N\n",
            "973          N\n",
            "75           D\n",
            "599          N\n",
            "863          N\n",
            "\n",
            "[642 rows x 1 columns]\n",
            "     Placement\n",
            "452          N\n",
            "147          R\n",
            "242          R\n",
            "1283         N\n",
            "754          N\n",
            "...        ...\n",
            "83           N\n",
            "258          R\n",
            "234          R\n",
            "735          N\n",
            "781          N\n",
            "\n",
            "[642 rows x 1 columns]\n"
          ]
        },
        {
          "output_type": "stream",
          "name": "stderr",
          "text": [
            "/usr/local/lib/python3.7/dist-packages/ipykernel_launcher.py:9: DataConversionWarning: A column-vector y was passed when a 1d array was expected. Please change the shape of y to (n_samples,), for example using ravel().\n",
            "  if __name__ == '__main__':\n"
          ]
        },
        {
          "output_type": "execute_result",
          "data": {
            "text/plain": [
              "RandomForestClassifier(criterion='entropy', max_depth=10, n_estimators=120)"
            ]
          },
          "metadata": {},
          "execution_count": 376
        }
      ]
    },
    {
      "cell_type": "code",
      "source": [
        "y_pred_rf = rf.predict(X_test)\n",
        "print (y_pred_rf)\n",
        "print(y_pred_rf.shape)"
      ],
      "metadata": {
        "colab": {
          "base_uri": "https://localhost:8080/"
        },
        "id": "UeDEME9QmnVm",
        "outputId": "6969cb2b-7a7e-499c-dc83-77b01cb0027d"
      },
      "execution_count": 334,
      "outputs": [
        {
          "output_type": "stream",
          "name": "stdout",
          "text": [
            "['R' 'R' 'R' 'R' 'R' 'R' 'R' 'R' 'R' 'R' 'R' 'R' 'R' 'R' 'R' 'R' 'R' 'R'\n",
            " 'R' 'SD' 'R' 'R' 'R' 'R' 'R' 'R' 'R' 'R' 'R' 'R' 'SD' 'R' 'R' 'R' 'R' 'R'\n",
            " 'R' 'R' 'R' 'R' 'R' 'R' 'R' 'R' 'R' 'SD' 'R' 'SD' 'SD' 'R' 'SD' 'R' 'SD'\n",
            " 'R' 'R' 'R' 'R' 'R' 'R' 'R' 'R' 'SD' 'R' 'R' 'R' 'R' 'R' 'R' 'R' 'R' 'R'\n",
            " 'R' 'R' 'R' 'R' 'R' 'R' 'R' 'R' 'R' 'R' 'R' 'R' 'R' 'R' 'R' 'R' 'R' 'R'\n",
            " 'R' 'R' 'R' 'R' 'R' 'R' 'R']\n",
            "(96,)\n"
          ]
        }
      ]
    },
    {
      "cell_type": "code",
      "source": [
        "from sklearn.metrics import confusion_matrix, accuracy_score, classification_report\n",
        "print(confusion_matrix(y_test, y_pred_rf))\n",
        "print (accuracy_score(y_test, y_pred_rf)*100)\n",
        "print (classification_report(y_test, y_pred_rf))"
      ],
      "metadata": {
        "colab": {
          "base_uri": "https://localhost:8080/"
        },
        "id": "QxPKYSq0o7Q-",
        "outputId": "ce9d4db6-af6f-4e40-ee92-e18c535d5526"
      },
      "execution_count": 335,
      "outputs": [
        {
          "output_type": "stream",
          "name": "stdout",
          "text": [
            "[[ 0 16  1]\n",
            " [ 0 66  7]\n",
            " [ 0  6  0]]\n",
            "68.75\n",
            "              precision    recall  f1-score   support\n",
            "\n",
            "           D       0.00      0.00      0.00        17\n",
            "           R       0.75      0.90      0.82        73\n",
            "          SD       0.00      0.00      0.00         6\n",
            "\n",
            "    accuracy                           0.69        96\n",
            "   macro avg       0.25      0.30      0.27        96\n",
            "weighted avg       0.57      0.69      0.62        96\n",
            "\n"
          ]
        },
        {
          "output_type": "stream",
          "name": "stderr",
          "text": [
            "/usr/local/lib/python3.7/dist-packages/sklearn/metrics/_classification.py:1318: UndefinedMetricWarning: Precision and F-score are ill-defined and being set to 0.0 in labels with no predicted samples. Use `zero_division` parameter to control this behavior.\n",
            "  _warn_prf(average, modifier, msg_start, len(result))\n",
            "/usr/local/lib/python3.7/dist-packages/sklearn/metrics/_classification.py:1318: UndefinedMetricWarning: Precision and F-score are ill-defined and being set to 0.0 in labels with no predicted samples. Use `zero_division` parameter to control this behavior.\n",
            "  _warn_prf(average, modifier, msg_start, len(result))\n",
            "/usr/local/lib/python3.7/dist-packages/sklearn/metrics/_classification.py:1318: UndefinedMetricWarning: Precision and F-score are ill-defined and being set to 0.0 in labels with no predicted samples. Use `zero_division` parameter to control this behavior.\n",
            "  _warn_prf(average, modifier, msg_start, len(result))\n"
          ]
        }
      ]
    },
    {
      "cell_type": "code",
      "source": [
        "y_pred_rf = rf.predict([[1]])\n",
        "print (y_pred_rf)"
      ],
      "metadata": {
        "colab": {
          "base_uri": "https://localhost:8080/"
        },
        "id": "qJKTM24apaLQ",
        "outputId": "7d7f3848-fc56-4d49-fd3c-31497c2e98aa"
      },
      "execution_count": 336,
      "outputs": [
        {
          "output_type": "stream",
          "name": "stdout",
          "text": [
            "['R']\n"
          ]
        },
        {
          "output_type": "stream",
          "name": "stderr",
          "text": [
            "/usr/local/lib/python3.7/dist-packages/sklearn/base.py:451: UserWarning: X does not have valid feature names, but RandomForestClassifier was fitted with feature names\n",
            "  \"X does not have valid feature names, but\"\n"
          ]
        }
      ]
    },
    {
      "cell_type": "code",
      "source": [
        "y_pred_rf = rf.predict([[3]])\n",
        "print (y_pred_rf)"
      ],
      "metadata": {
        "colab": {
          "base_uri": "https://localhost:8080/"
        },
        "id": "wMt2M7ccrAdn",
        "outputId": "c1b9bbfe-ae18-4336-8cfa-5b2fe54a135d"
      },
      "execution_count": 337,
      "outputs": [
        {
          "output_type": "stream",
          "name": "stdout",
          "text": [
            "['R']\n"
          ]
        },
        {
          "output_type": "stream",
          "name": "stderr",
          "text": [
            "/usr/local/lib/python3.7/dist-packages/sklearn/base.py:451: UserWarning: X does not have valid feature names, but RandomForestClassifier was fitted with feature names\n",
            "  \"X does not have valid feature names, but\"\n"
          ]
        }
      ]
    },
    {
      "cell_type": "code",
      "source": [
        "# Creating figure and axis objects using subplots()\n",
        "fig, ax = plt.subplots(figsize=[9, 7])\n",
        "\n",
        "# Plotting the firts line with ax axes\n",
        "ax.plot(dataset['Placement'],\n",
        "        dataset['Badge'],\n",
        "        color='b', linewidth=2, marker='o')\n",
        "plt.xticks(rotation=60)\n",
        "ax.set_xlabel('Placement', fontsize=15)\n",
        "ax.set_ylabel('Badge',  color='blue', fontsize=15)\n",
        "\n",
        "# Create a twin axes ax2 using twinx() function\n",
        "ax2 = ax.twinx()\n",
        "\n",
        "# Now, plot the second line with ax2 axes\n",
        "ax2.plot(dataset['Placement'],\n",
        "         dataset['Superbadge'],\n",
        "         color='orange', linewidth=2, marker='o')\n",
        "\n",
        "ax2.set_ylabel('Superbadge', color='orange', fontsize=15)\n",
        "\n",
        "plt.show()"
      ],
      "metadata": {
        "colab": {
          "base_uri": "https://localhost:8080/",
          "height": 455
        },
        "id": "QOKk58COKyEh",
        "outputId": "728cb30d-0540-4c8a-aa1d-7eec858de2be"
      },
      "execution_count": 338,
      "outputs": [
        {
          "output_type": "display_data",
          "data": {
            "text/plain": [
              "<Figure size 648x504 with 2 Axes>"
            ],
            "image/png": "[encoded data removed]"
          },
          "metadata": {
            "needs_background": "light"
          }
        }
      ]
    },
    {
      "cell_type": "code",
      "source": [
        "#placement_dict = {'N' : 1, 'R' : 1, 'D' : 2, 'SD' : 3}\n",
        "#dataset['Placement'] = dataset['Placement'].map(placement_dict)"
      ],
      "metadata": {
        "id": "AFiEqbHZEAgX"
      },
      "execution_count": 339,
      "outputs": []
    },
    {
      "cell_type": "code",
      "source": [
        "plt.scatter(dataset['Placement'], dataset['Badge'])\n",
        "\n",
        "# Adding Title to the Plot\n",
        "plt.title(\"Scatter Plot\")\n",
        "\n",
        "# Setting the X and Y labels\n",
        "plt.xlabel('Placement')\n",
        "plt.ylabel('Badge')\n",
        "\n",
        "plt.show()"
      ],
      "metadata": {
        "colab": {
          "base_uri": "https://localhost:8080/",
          "height": 295
        },
        "id": "WqNwM1MTQTQZ",
        "outputId": "e3151547-b233-4d53-fe27-5fe901718d59"
      },
      "execution_count": 340,
      "outputs": [
        {
          "output_type": "display_data",
          "data": {
            "text/plain": [
              "<Figure size 432x288 with 1 Axes>"
            ],
            "image/png": "[encoded data removed]"
          },
          "metadata": {
            "needs_background": "light"
          }
        }
      ]
    },
    {
      "cell_type": "code",
      "source": [
        "plt.scatter(dataset['Placement'], dataset['Superbadge'])\n",
        "\n",
        "# Adding Title to the Plot\n",
        "plt.title(\"Scatter Plot\")\n",
        "\n",
        "# Setting the X and Y labels\n",
        "plt.xlabel('Placement')\n",
        "plt.ylabel('Superbadge')\n",
        "\n",
        "plt.show()"
      ],
      "metadata": {
        "colab": {
          "base_uri": "https://localhost:8080/",
          "height": 295
        },
        "id": "cvEtrGWuSsGZ",
        "outputId": "581b68dc-a34a-4410-ede8-589ef4c51c5c"
      },
      "execution_count": 341,
      "outputs": [
        {
          "output_type": "display_data",
          "data": {
            "text/plain": [
              "<Figure size 432x288 with 1 Axes>"
            ],
            "image/png": "[encoded data removed]"
          },
          "metadata": {
            "needs_background": "light"
          }
        }
      ]
    },
    {
      "cell_type": "code",
      "source": [
        "plt.scatter(dataset['Placement'], dataset['ExamlyScore'],color = 'purple',s=5)\n",
        "\n",
        "# Adding Title to the Plot\n",
        "plt.title(\"Scatter Plot\")\n",
        "\n",
        "# Setting the X and Y labels\n",
        "plt.xlabel('Placement')\n",
        "plt.ylabel('ExamlyScore')\n",
        "\n",
        "plt.show()"
      ],
      "metadata": {
        "colab": {
          "base_uri": "https://localhost:8080/",
          "height": 295
        },
        "id": "b6LDJXhcS6L0",
        "outputId": "c67b23e9-14ad-445e-f950-a31a41f3b440"
      },
      "execution_count": 342,
      "outputs": [
        {
          "output_type": "display_data",
          "data": {
            "text/plain": [
              "<Figure size 432x288 with 1 Axes>"
            ],
            "image/png": "[encoded data removed]"
          },
          "metadata": {
            "needs_background": "light"
          }
        }
      ]
    },
    {
      "cell_type": "code",
      "source": [
        "plt.scatter(dataset['Placement'], dataset['Time'],color = 'lime',s=5)\n",
        "\n",
        "# Adding Title to the Plot\n",
        "plt.title(\"Scatter Plot\")\n",
        "\n",
        "# Setting the X and Y labels\n",
        "plt.xlabel('Placement')\n",
        "plt.ylabel('Time')\n",
        "\n",
        "plt.show()"
      ],
      "metadata": {
        "colab": {
          "base_uri": "https://localhost:8080/",
          "height": 295
        },
        "id": "k51a18JpYDYQ",
        "outputId": "0c31f5e6-3912-4982-f184-db0343194d1d"
      },
      "execution_count": 343,
      "outputs": [
        {
          "output_type": "display_data",
          "data": {
            "text/plain": [
              "<Figure size 432x288 with 1 Axes>"
            ],
            "image/png": "[encoded data removed]"
          },
          "metadata": {
            "needs_background": "light"
          }
        }
      ]
    },
    {
      "cell_type": "code",
      "source": [
        "plt.scatter(dataset['Placement'], dataset['Class10'],color = 'blue',s=5)\n",
        "\n",
        "# Adding Title to the Plot\n",
        "plt.title(\"Scatter Plot\")\n",
        "\n",
        "# Setting the X and Y labels\n",
        "plt.xlabel('Placement')\n",
        "plt.ylabel('Class10')\n",
        "\n",
        "plt.show()"
      ],
      "metadata": {
        "colab": {
          "base_uri": "https://localhost:8080/",
          "height": 295
        },
        "id": "Hn_vhEN8cxip",
        "outputId": "425f98ac-9c62-4679-fd72-11da193cc78d"
      },
      "execution_count": 344,
      "outputs": [
        {
          "output_type": "display_data",
          "data": {
            "text/plain": [
              "<Figure size 432x288 with 1 Axes>"
            ],
            "image/png": "[encoded data removed]"
          },
          "metadata": {
            "needs_background": "light"
          }
        }
      ]
    },
    {
      "cell_type": "code",
      "source": [
        "plt.scatter(dataset['Placement'], dataset['Class12'],color = 'blue',s=5)\n",
        "\n",
        "# Adding Title to the Plot\n",
        "plt.title(\"Scatter Plot\")\n",
        "\n",
        "# Setting the X and Y labels\n",
        "plt.xlabel('Placement')\n",
        "plt.ylabel('Class12')\n",
        "\n",
        "plt.show()"
      ],
      "metadata": {
        "colab": {
          "base_uri": "https://localhost:8080/",
          "height": 295
        },
        "id": "7QT2y5kUiDeE",
        "outputId": "498aac89-b064-4171-ad1c-5cb1d6bf103d"
      },
      "execution_count": 345,
      "outputs": [
        {
          "output_type": "display_data",
          "data": {
            "text/plain": [
              "<Figure size 432x288 with 1 Axes>"
            ],
            "image/png": "[encoded data removed]"
          },
          "metadata": {
            "needs_background": "light"
          }
        }
      ]
    },
    {
      "cell_type": "code",
      "source": [
        "plt.scatter(dataset['CGPA'], dataset['ExamlyScore'],color = 'hotpink',s=5)\n",
        "\n",
        "# Adding Title to the Plot\n",
        "plt.title(\"Scatter Plot\")\n",
        "\n",
        "# Setting the X and Y labels\n",
        "plt.xlabel('CGPA')\n",
        "plt.ylabel('ExamlyScore')\n",
        "\n",
        "plt.show()"
      ],
      "metadata": {
        "colab": {
          "base_uri": "https://localhost:8080/",
          "height": 295
        },
        "id": "aAS7UlSieL0K",
        "outputId": "353bc5dd-3a74-47fb-8355-0ed2466d4c98"
      },
      "execution_count": 346,
      "outputs": [
        {
          "output_type": "display_data",
          "data": {
            "text/plain": [
              "<Figure size 432x288 with 1 Axes>"
            ],
            "image/png": "[encoded data removed]"
          },
          "metadata": {
            "needs_background": "light"
          }
        }
      ]
    }
  ]
}